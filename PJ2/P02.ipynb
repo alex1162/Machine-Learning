{
 "cells": [
  {
   "cell_type": "markdown",
   "metadata": {
    "id": "EzfnlG_gKLhF"
   },
   "source": [
    "# <center> Project 02: Application of classification in Marketing and Sales </center>"
   ]
  },
  {
   "cell_type": "markdown",
   "metadata": {
    "id": "jdPg2j8dKLhG"
   },
   "source": [
    "# Seminar goals:\n",
    "In this project, we will develop and apply different supervised classification tecnhiques. These methodologies are broadly used in business to multiple use cases as:\n",
    "- identify **new customers** in the market\n",
    "- identify customers in our internal Data Warehouse with **more likely** to buy a new product\n",
    "- identify unsatisfied customers and thus, likely to be **churners**\n",
    "- classify text into categories for spam identification or to process messages or emails from our customers\n",
    "\n",
    "During this project we will follow the end-to-end Machine Learning process: from data gathering and cleaning, exploratory data analysis, feature engineering and finally, training and prediction. In particular, the main sections of this project are:\n",
    "1. Data understanding and preparation: exploration of the dataset and feature engineering (missing values, outlier identification, categorical variables management) \n",
    "2. Model Training: training the baseline SVM and Decision Trees. Analysis of metrics (recall, precision, confusion metrics) and improvement the classification through several techniques as undersampling to balance or ensemble of models\n",
    "3. Creating a Business opportunity with Machine Learning: selection of the best model and identification of the most important features\n",
    "\n",
    "\n",
    "\n",
    "We will apply all these techniques to identify new customers to capture and improve sales in a **marketing use case**."
   ]
  },
  {
   "cell_type": "markdown",
   "metadata": {
    "id": "UYAFrceqKLhH"
   },
   "source": [
    "### Due date: up to June 17th, 23:55h. \n",
    "### Submission procedure: via Moodle."
   ]
  },
  {
   "cell_type": "markdown",
   "metadata": {
    "id": "-A4_3DZEKLhI"
   },
   "source": [
    "*******"
   ]
  },
  {
   "cell_type": "markdown",
   "metadata": {
    "id": "FZY4NReQKLhI"
   },
   "source": [
    "# 0. Context:  Using Machine Learning to increase our customers base"
   ]
  },
  {
   "cell_type": "markdown",
   "metadata": {
    "id": "diyA2X3aKLhJ"
   },
   "source": [
    "We work as a head of data science and AI in a new Internet of Things (IoT) company. Our company designs, builds and implements wireless IoT products.\n",
    "\n",
    "Our marketing colleagues are planning to launch a new commercial campaign for capturing new customers. We have to decide which companies are the target to be visited by our sales managers. As the cost to send a sales manager to visit a potential customer is quite high, we have to select from the total market base, those companies that are more likely to buy any of our products and become a new customer. \n",
    "\n",
    "To support this new campaign, we are **using several of the most important classification techniques**. We will manage key evaluation aspects of a classification as **recall, precision, false positive, etc...** to decide which are the best potential customers. \n"
   ]
  },
  {
   "cell_type": "markdown",
   "metadata": {
    "id": "1hxQ0QtwKLhK"
   },
   "source": [
    "## 0.1 Dataset"
   ]
  },
  {
   "cell_type": "markdown",
   "metadata": {
    "id": "uRr4nn5-KLhK"
   },
   "source": [
    "In this practice we are using a new dataset named `market_dt.csv`. This file contains information of **IoT market**, i.e. companies that could be interested to buy IoT products or they have already. In particular, the detailed information for each customer is:\n",
    "- *City*: Name of the city where the company is located\n",
    "- *Customer_Flag*: It is a flag that is 1 for current customers and 0 for non-customers\n",
    "- *Revenue*: The annual incomes of the company\n",
    "- *Sector*: It's an integer that identifies the sector of the company's activity\n",
    "- *CNT_EMPLOYEE*: Number of employees of the company\n",
    "- *CNT_CB_DENSITY*: Number of companies close\n",
    "- *CNT_CB_MOB_DENSITY*: Number of companies with mobile services\n",
    "- *CNT_CB_FN_DENSITY*: Number of companies with fixed services\n",
    "- *Legal_Form_Code*: It's an integer that identifies the legal type of the company: big, small or medium company\n",
    "- *Mobile potential*: It's an estimation of the total annual expense that a company can do in telco services, including IoT"
   ]
  },
  {
   "cell_type": "markdown",
   "metadata": {
    "id": "6U4Sxn_kKLhL"
   },
   "source": [
    "## 0.2. Imports"
   ]
  },
  {
   "cell_type": "code",
   "execution_count": 1,
   "metadata": {
    "id": "t4bx2UI5KLhM"
   },
   "outputs": [],
   "source": [
    "import pandas as pd\n",
    "import numpy as np\n",
    "import matplotlib.pyplot as plt\n",
    "from matplotlib import pyplot\n",
    "import matplotlib.cm as cm\n",
    "import seaborn as sns\n",
    "from scipy.stats import iqr\n",
    "from scipy.stats import chi2_contingency\n",
    "from sklearn.preprocessing import StandardScaler\n",
    "from sklearn.preprocessing import Normalizer\n",
    "from sklearn.preprocessing import MinMaxScaler\n",
    "from sklearn.preprocessing import LabelEncoder\n",
    "from sklearn.model_selection import train_test_split\n",
    "from sklearn.linear_model import SGDClassifier\n",
    "from sklearn.svm import SVC\n",
    "from sklearn.model_selection import train_test_split\n",
    "from sklearn.metrics import accuracy_score, auc, roc_curve, classification_report, confusion_matrix, precision_score, recall_score, precision_recall_curve\n",
    "from sklearn.tree import DecisionTreeClassifier\n",
    "from sklearn.ensemble import RandomForestClassifier, GradientBoostingClassifier, VotingClassifier, AdaBoostClassifier \n",
    "from sklearn.model_selection import KFold\n",
    "from sklearn.model_selection import cross_val_score\n",
    "from sklearn.model_selection import StratifiedKFold"
   ]
  },
  {
   "cell_type": "code",
   "execution_count": 2,
   "metadata": {},
   "outputs": [],
   "source": [
    "#Visualization purposes :)\n",
    "BOLD = '\\033[1m'\n",
    "END = '\\033[0m'"
   ]
  },
  {
   "cell_type": "markdown",
   "metadata": {
    "id": "o7OfXFAoKLhP"
   },
   "source": [
    "# 1. Data understanding and preparation"
   ]
  },
  {
   "cell_type": "markdown",
   "metadata": {
    "id": "T0GEXTMZKLhQ"
   },
   "source": [
    "The first stage in any Machine Learning project is to have a clear understanding of the dataset from a statistical point of view but also from the perspective of the value of their variables to solve the use case or problem. To achieve this goal we need to \"clean\" and \"transform\" the data. All this process is known as **Data Wrangling**. In particular, the whole data wrangling process implies:\n",
    "- Define and apply an strategy for nulls and coding for categorical variables\n",
    "- Analyze the variables distribution and correlation between them\n",
    "- Remove outliers\n",
    "- etc....\n"
   ]
  },
  {
   "cell_type": "markdown",
   "metadata": {
    "id": "tzaVBJ98KLhQ"
   },
   "source": [
    "Let's open the csv with separator \";\" and assign to a dataframe variable (use read_csv from Pandas library). Let's see the top 5 elements."
   ]
  },
  {
   "cell_type": "code",
   "execution_count": 3,
   "metadata": {
    "id": "t7w8v94aKLhR",
    "outputId": "1d91411a-486a-4340-f9c5-fda71d29d9bd"
   },
   "outputs": [
    {
     "data": {
      "text/html": [
       "<div>\n",
       "<style scoped>\n",
       "    .dataframe tbody tr th:only-of-type {\n",
       "        vertical-align: middle;\n",
       "    }\n",
       "\n",
       "    .dataframe tbody tr th {\n",
       "        vertical-align: top;\n",
       "    }\n",
       "\n",
       "    .dataframe thead th {\n",
       "        text-align: right;\n",
       "    }\n",
       "</style>\n",
       "<table border=\"1\" class=\"dataframe\">\n",
       "  <thead>\n",
       "    <tr style=\"text-align: right;\">\n",
       "      <th></th>\n",
       "      <th>City</th>\n",
       "      <th>Customer_Flag</th>\n",
       "      <th>Revenue</th>\n",
       "      <th>Sector</th>\n",
       "      <th>Legal_Form_Code</th>\n",
       "      <th>CNT_EMPLOYEE</th>\n",
       "      <th>CNT_CB_DENSITY</th>\n",
       "      <th>CNT_CB_MOB_DENSITY</th>\n",
       "      <th>CNT_CB_FN_DENSITY</th>\n",
       "      <th>Mobile_potential</th>\n",
       "    </tr>\n",
       "  </thead>\n",
       "  <tbody>\n",
       "    <tr>\n",
       "      <th>0</th>\n",
       "      <td>Bremen</td>\n",
       "      <td>0</td>\n",
       "      <td>21339309.0</td>\n",
       "      <td>26.0</td>\n",
       "      <td>14.0</td>\n",
       "      <td>28</td>\n",
       "      <td>161.0</td>\n",
       "      <td>154.0</td>\n",
       "      <td>10.0</td>\n",
       "      <td>2505.609457</td>\n",
       "    </tr>\n",
       "    <tr>\n",
       "      <th>1</th>\n",
       "      <td>Steinfurt</td>\n",
       "      <td>0</td>\n",
       "      <td>NaN</td>\n",
       "      <td>74.0</td>\n",
       "      <td>4.0</td>\n",
       "      <td>52</td>\n",
       "      <td>41.0</td>\n",
       "      <td>41.0</td>\n",
       "      <td>1.0</td>\n",
       "      <td>2714.197904</td>\n",
       "    </tr>\n",
       "    <tr>\n",
       "      <th>2</th>\n",
       "      <td>Magdeburg</td>\n",
       "      <td>0</td>\n",
       "      <td>NaN</td>\n",
       "      <td>83.0</td>\n",
       "      <td>28.0</td>\n",
       "      <td>29</td>\n",
       "      <td>188.0</td>\n",
       "      <td>187.0</td>\n",
       "      <td>6.0</td>\n",
       "      <td>2245.828787</td>\n",
       "    </tr>\n",
       "    <tr>\n",
       "      <th>3</th>\n",
       "      <td>Leipzig</td>\n",
       "      <td>0</td>\n",
       "      <td>NaN</td>\n",
       "      <td>61.0</td>\n",
       "      <td>28.0</td>\n",
       "      <td>13</td>\n",
       "      <td>597.0</td>\n",
       "      <td>594.0</td>\n",
       "      <td>21.0</td>\n",
       "      <td>2163.784785</td>\n",
       "    </tr>\n",
       "    <tr>\n",
       "      <th>4</th>\n",
       "      <td>Tamm</td>\n",
       "      <td>0</td>\n",
       "      <td>NaN</td>\n",
       "      <td>74.0</td>\n",
       "      <td>4.0</td>\n",
       "      <td>40</td>\n",
       "      <td>336.0</td>\n",
       "      <td>334.0</td>\n",
       "      <td>10.0</td>\n",
       "      <td>2338.611264</td>\n",
       "    </tr>\n",
       "  </tbody>\n",
       "</table>\n",
       "</div>"
      ],
      "text/plain": [
       "        City  Customer_Flag     Revenue  Sector  Legal_Form_Code  \\\n",
       "0     Bremen              0  21339309.0    26.0             14.0   \n",
       "1  Steinfurt              0         NaN    74.0              4.0   \n",
       "2  Magdeburg              0         NaN    83.0             28.0   \n",
       "3    Leipzig              0         NaN    61.0             28.0   \n",
       "4       Tamm              0         NaN    74.0              4.0   \n",
       "\n",
       "   CNT_EMPLOYEE  CNT_CB_DENSITY  CNT_CB_MOB_DENSITY  CNT_CB_FN_DENSITY  \\\n",
       "0            28           161.0               154.0               10.0   \n",
       "1            52            41.0                41.0                1.0   \n",
       "2            29           188.0               187.0                6.0   \n",
       "3            13           597.0               594.0               21.0   \n",
       "4            40           336.0               334.0               10.0   \n",
       "\n",
       "   Mobile_potential  \n",
       "0       2505.609457  \n",
       "1       2714.197904  \n",
       "2       2245.828787  \n",
       "3       2163.784785  \n",
       "4       2338.611264  "
      ]
     },
     "execution_count": 3,
     "metadata": {},
     "output_type": "execute_result"
    }
   ],
   "source": [
    "market_dt = pd.read_csv('market_dt.csv', usecols={'City', 'Customer_Flag', 'Revenue', 'Sector', 'CNT_EMPLOYEE',\n",
    "                                                 'CNT_CB_DENSITY', 'CNT_CB_MOB_DENSITY', 'CNT_CB_FN_DENSITY',\n",
    "                                                 'Legal_Form_Code','Mobile_potential'}, sep=\";\")\n",
    "market_dt.head()"
   ]
  },
  {
   "cell_type": "markdown",
   "metadata": {
    "id": "osFK9XOAKLhV"
   },
   "source": [
    "[**EX1**] [**REPORT**] Let's identify the type of the variables (integer, float, chart...) and the size of the dataset and the file. Which are the variable with more nulls? And with no nulls? Why 'City' variables is considered as object type?\n",
    "\n",
    "Tip: [.info()](https://www.geeksforgeeks.org/python-pandas-dataframe-info/) is a function that reports the main characteristics of a dataframe."
   ]
  },
  {
   "cell_type": "code",
   "execution_count": 4,
   "metadata": {},
   "outputs": [
    {
     "name": "stdout",
     "output_type": "stream",
     "text": [
      "<class 'pandas.core.frame.DataFrame'>\n",
      "RangeIndex: 13335 entries, 0 to 13334\n",
      "Data columns (total 10 columns):\n",
      " #   Column              Non-Null Count  Dtype  \n",
      "---  ------              --------------  -----  \n",
      " 0   City                13335 non-null  object \n",
      " 1   Customer_Flag       13335 non-null  int64  \n",
      " 2   Revenue             8589 non-null   float64\n",
      " 3   Sector              13235 non-null  float64\n",
      " 4   Legal_Form_Code     13229 non-null  float64\n",
      " 5   CNT_EMPLOYEE        13335 non-null  int64  \n",
      " 6   CNT_CB_DENSITY      10265 non-null  float64\n",
      " 7   CNT_CB_MOB_DENSITY  10265 non-null  float64\n",
      " 8   CNT_CB_FN_DENSITY   10265 non-null  float64\n",
      " 9   Mobile_potential    13335 non-null  float64\n",
      "dtypes: float64(7), int64(2), object(1)\n",
      "memory usage: 1.0+ MB\n"
     ]
    }
   ],
   "source": [
    "market_dt.info()"
   ]
  },
  {
   "cell_type": "markdown",
   "metadata": {
    "id": "rnjxSOlfKLhZ"
   },
   "source": [
    "Once we have the first contact with the dataset, next step is to decide the strategy to apply to **nulls** values. There are several options as removing the rows with any **null**, assigning a constant value (e.g. median or mean value), etc.... In our case, we are removing the rows with **null** in any of the values."
   ]
  },
  {
   "cell_type": "markdown",
   "metadata": {
    "id": "j6WN5zKGKLhZ"
   },
   "source": [
    "[**EX2**] [**CODE**] Eliminate those rows which has nulls in any variable. Let's check that there is no nulls in any variable. Which is the size of the resulting dataset? "
   ]
  },
  {
   "cell_type": "code",
   "execution_count": 5,
   "metadata": {},
   "outputs": [],
   "source": [
    "for column in market_dt:\n",
    "    market_dt = market_dt[market_dt[column].isna()==False]"
   ]
  },
  {
   "cell_type": "markdown",
   "metadata": {},
   "source": [
    "Let's, first of all, see how many clients we already have out of all the potential clients in the dataset"
   ]
  },
  {
   "cell_type": "code",
   "execution_count": 6,
   "metadata": {},
   "outputs": [
    {
     "data": {
      "text/plain": [
       "1111"
      ]
     },
     "execution_count": 6,
     "metadata": {},
     "output_type": "execute_result"
    }
   ],
   "source": [
    "total_customers = 0\n",
    "for el in market_dt['Customer_Flag']:\n",
    "    total_customers += el\n",
    "total_customers"
   ]
  },
  {
   "cell_type": "markdown",
   "metadata": {
    "id": "jMAZKlkpKLhf"
   },
   "source": [
    "Your output should look like this:"
   ]
  },
  {
   "cell_type": "code",
   "execution_count": 7,
   "metadata": {
    "id": "H2dXqQbfKLhf",
    "outputId": "e0b6d8cf-e02e-46ed-bdb6-811b71a0a6b3"
   },
   "outputs": [
    {
     "name": "stdout",
     "output_type": "stream",
     "text": [
      "<class 'pandas.core.frame.DataFrame'>\n",
      "Int64Index: 6987 entries, 0 to 13321\n",
      "Data columns (total 10 columns):\n",
      " #   Column              Non-Null Count  Dtype  \n",
      "---  ------              --------------  -----  \n",
      " 0   City                6987 non-null   object \n",
      " 1   Customer_Flag       6987 non-null   int64  \n",
      " 2   Revenue             6987 non-null   float64\n",
      " 3   Sector              6987 non-null   float64\n",
      " 4   Legal_Form_Code     6987 non-null   float64\n",
      " 5   CNT_EMPLOYEE        6987 non-null   int64  \n",
      " 6   CNT_CB_DENSITY      6987 non-null   float64\n",
      " 7   CNT_CB_MOB_DENSITY  6987 non-null   float64\n",
      " 8   CNT_CB_FN_DENSITY   6987 non-null   float64\n",
      " 9   Mobile_potential    6987 non-null   float64\n",
      "dtypes: float64(7), int64(2), object(1)\n",
      "memory usage: 600.4+ KB\n"
     ]
    }
   ],
   "source": [
    "market_dt.info()"
   ]
  },
  {
   "cell_type": "markdown",
   "metadata": {
    "id": "uR4UCXz6KLhj"
   },
   "source": [
    "In Machine Learning, it is key to analyze the variables from a statistical point of view: knowing the distribution of each variable, their mean and median are key to identify any transformation to apply before training the model. \n",
    "Furthermore, due to we are training a classifier (in our case, to classify between ***customers*** and ***non customers***), this analysis should be done for both classes separetly."
   ]
  },
  {
   "cell_type": "markdown",
   "metadata": {
    "id": "L2r-IQ7OKLhj"
   },
   "source": [
    "[**EX3**] [**REPORT**] Create a `customer_dt`and `noncustomer_dt`datasets based on the `Customer_Flag`variable (`Customer_Flag`=1 for **customers** and 0 for **noncustomers**). Build a boxplot for the `Revenue`, `CNT_EMPLOYEE`, `Mobile_potential` and `CNT_CB_Density` numeric variables for both datasets. Which are the main differences between `customer_dt`and `noncustomer_dt` datasets comparing these variables. Which is the dataset with `CNT_EMPLOYEE` higher? Which datasets have more outliers in `Revenues`? Which is the Q1, median (=Q2) and Q3 for `Revenues`and `Mobile_potential`?\n",
    "\n",
    "\n",
    "Tip: you may have to use the [boxplot](https://matplotlib.org/3.1.1/api/_as_gen/matplotlib.pyplot.boxplot.html) function."
   ]
  },
  {
   "cell_type": "code",
   "execution_count": 8,
   "metadata": {},
   "outputs": [],
   "source": [
    "customer_dt = market_dt[market_dt['Customer_Flag'] == 1]\n",
    "noncustomer_dt = market_dt[market_dt['Customer_Flag'] == 0]"
   ]
  },
  {
   "cell_type": "code",
   "execution_count": 9,
   "metadata": {},
   "outputs": [
    {
     "name": "stdout",
     "output_type": "stream",
     "text": [
      "\u001b[1mBoxplots for the Revenue\u001b[0m:\n",
      "customers dataset\n"
     ]
    },
    {
     "data": {
      "image/png": "[encoded data removed]",
      "text/plain": [
       "<Figure size 432x288 with 1 Axes>"
      ]
     },
     "metadata": {
      "needs_background": "light"
     },
     "output_type": "display_data"
    },
    {
     "name": "stdout",
     "output_type": "stream",
     "text": [
      "noncustomers dataset\n"
     ]
    },
    {
     "data": {
      "image/png": "[encoded data removed]",
      "text/plain": [
       "<Figure size 432x288 with 1 Axes>"
      ]
     },
     "metadata": {
      "needs_background": "light"
     },
     "output_type": "display_data"
    },
    {
     "name": "stdout",
     "output_type": "stream",
     "text": [
      "\u001b[1mBoxplots for the CNT_EMPLOYEE\u001b[0m:\n",
      "customers dataset\n"
     ]
    },
    {
     "data": {
      "image/png": "[encoded data removed]",
      "text/plain": [
       "<Figure size 432x288 with 1 Axes>"
      ]
     },
     "metadata": {
      "needs_background": "light"
     },
     "output_type": "display_data"
    },
    {
     "name": "stdout",
     "output_type": "stream",
     "text": [
      "noncustomers dataset\n"
     ]
    },
    {
     "data": {
      "image/png": "[encoded data removed]",
      "text/plain": [
       "<Figure size 432x288 with 1 Axes>"
      ]
     },
     "metadata": {
      "needs_background": "light"
     },
     "output_type": "display_data"
    },
    {
     "name": "stdout",
     "output_type": "stream",
     "text": [
      "\u001b[1mBoxplots for the Mobile_potential\u001b[0m:\n",
      "customers dataset\n"
     ]
    },
    {
     "data": {
      "image/png": "[encoded data removed]",
      "text/plain": [
       "<Figure size 432x288 with 1 Axes>"
      ]
     },
     "metadata": {
      "needs_background": "light"
     },
     "output_type": "display_data"
    },
    {
     "name": "stdout",
     "output_type": "stream",
     "text": [
      "noncustomers dataset\n"
     ]
    },
    {
     "data": {
      "image/png": "[encoded data removed]",
      "text/plain": [
       "<Figure size 432x288 with 1 Axes>"
      ]
     },
     "metadata": {
      "needs_background": "light"
     },
     "output_type": "display_data"
    },
    {
     "name": "stdout",
     "output_type": "stream",
     "text": [
      "\u001b[1mBoxplots for the CNT_CB_DENSITY\u001b[0m:\n",
      "customers dataset\n"
     ]
    },
    {
     "data": {
      "image/png": "[encoded data removed]",
      "text/plain": [
       "<Figure size 432x288 with 1 Axes>"
      ]
     },
     "metadata": {
      "needs_background": "light"
     },
     "output_type": "display_data"
    },
    {
     "name": "stdout",
     "output_type": "stream",
     "text": [
      "noncustomers dataset\n"
     ]
    },
    {
     "data": {
      "image/png": "[encoded data removed]",
      "text/plain": [
       "<Figure size 432x288 with 1 Axes>"
      ]
     },
     "metadata": {
      "needs_background": "light"
     },
     "output_type": "display_data"
    }
   ],
   "source": [
    "boxplot_columns = [\"Revenue\", \"CNT_EMPLOYEE\", \"Mobile_potential\", \"CNT_CB_DENSITY\"]\n",
    "for column in boxplot_columns:\n",
    "    print(f\"{BOLD}Boxplots for the {column}{END}:\")\n",
    "    print(\"customers dataset\")\n",
    "    plt.boxplot(customer_dt[column])\n",
    "    plt.show()\n",
    "    print(\"noncustomers dataset\")\n",
    "    plt.boxplot(noncustomer_dt[column])\n",
    "    plt.show()"
   ]
  },
  {
   "cell_type": "markdown",
   "metadata": {
    "id": "P4LaqjUyKLhm"
   },
   "source": [
    "As we observe from the boxplots, some of them present outliers. There are several mechanisms to eliminate outliers. One option is to eliminate the values higher than a statistical value for each numerical variable."
   ]
  },
  {
   "cell_type": "markdown",
   "metadata": {
    "id": "puFRcL_-KLhn"
   },
   "source": [
    "[**EX4**] [**CODE**] Remove the values higher than 5* IQR for each variable: `Revenue`, `CNT_EMPLOYEE`, `Mobile_potential`, `CNT_CB_DENSITY`, `CNT_CB_MOB_DENSITY`and `CNT_CB_FN_DENSITY`. Compare with the boxplot of the previous exercise [**EX3**] and explain the differences."
   ]
  },
  {
   "cell_type": "markdown",
   "metadata": {
    "id": "QT-ULfjoKLhv"
   },
   "source": [
    "On the other hand, before applying any classification algorithm, it is necessary to transform non-numerical variables. The most common transformations are **coding as integer** or **coding as dummies**. Before deciding the mechanism it is important to analyze, for each categorical variable, their number of different values and their frequencies. In case of high number of possible values in comparision with the size of the dataset, **dummy** transformation could generate sparse matrix."
   ]
  },
  {
   "cell_type": "code",
   "execution_count": 10,
   "metadata": {},
   "outputs": [],
   "source": [
    "def remove_outliers(dataframe, interest_cols, factor):\n",
    "\n",
    "    output_df = dataframe.copy()\n",
    "    \n",
    "    for column in interest_cols:\n",
    "        q3 = np.percentile(dataframe[column], 75)\n",
    "        q1 = np.percentile(dataframe[column], 25)\n",
    "        iqr = q3 - q1\n",
    "\n",
    "        lower_bound = q1 - ( factor * iqr )\n",
    "        upper_bound = q3 + ( factor * iqr )\n",
    "        \n",
    "        output_df = output_df[(output_df[column]>= lower_bound) & (output_df[column]<= upper_bound)]\n",
    "    \n",
    "    return output_df"
   ]
  },
  {
   "cell_type": "code",
   "execution_count": 11,
   "metadata": {},
   "outputs": [
    {
     "name": "stdout",
     "output_type": "stream",
     "text": [
      "<class 'pandas.core.frame.DataFrame'>\n",
      "Int64Index: 1015 entries, 11548 to 13321\n",
      "Data columns (total 10 columns):\n",
      " #   Column              Non-Null Count  Dtype  \n",
      "---  ------              --------------  -----  \n",
      " 0   City                1015 non-null   object \n",
      " 1   Customer_Flag       1015 non-null   int64  \n",
      " 2   Revenue             1015 non-null   float64\n",
      " 3   Sector              1015 non-null   float64\n",
      " 4   Legal_Form_Code     1015 non-null   float64\n",
      " 5   CNT_EMPLOYEE        1015 non-null   int64  \n",
      " 6   CNT_CB_DENSITY      1015 non-null   float64\n",
      " 7   CNT_CB_MOB_DENSITY  1015 non-null   float64\n",
      " 8   CNT_CB_FN_DENSITY   1015 non-null   float64\n",
      " 9   Mobile_potential    1015 non-null   float64\n",
      "dtypes: float64(7), int64(2), object(1)\n",
      "memory usage: 87.2+ KB\n",
      "<class 'pandas.core.frame.DataFrame'>\n",
      "Int64Index: 5347 entries, 5 to 11546\n",
      "Data columns (total 10 columns):\n",
      " #   Column              Non-Null Count  Dtype  \n",
      "---  ------              --------------  -----  \n",
      " 0   City                5347 non-null   object \n",
      " 1   Customer_Flag       5347 non-null   int64  \n",
      " 2   Revenue             5347 non-null   float64\n",
      " 3   Sector              5347 non-null   float64\n",
      " 4   Legal_Form_Code     5347 non-null   float64\n",
      " 5   CNT_EMPLOYEE        5347 non-null   int64  \n",
      " 6   CNT_CB_DENSITY      5347 non-null   float64\n",
      " 7   CNT_CB_MOB_DENSITY  5347 non-null   float64\n",
      " 8   CNT_CB_FN_DENSITY   5347 non-null   float64\n",
      " 9   Mobile_potential    5347 non-null   float64\n",
      "dtypes: float64(7), int64(2), object(1)\n",
      "memory usage: 459.5+ KB\n"
     ]
    }
   ],
   "source": [
    "boxplot_columns = [\"Revenue\", \"CNT_EMPLOYEE\", \"Mobile_potential\", \"CNT_CB_DENSITY\", \"CNT_CB_MOB_DENSITY\", \"CNT_CB_FN_DENSITY\"]\n",
    "factor = 5\n",
    "cleared_customer_dt = customer_dt.copy()\n",
    "customer_dt_no_outliers = remove_outliers(customer_dt, boxplot_columns, factor)\n",
    "customer_dt_no_outliers.info()\n",
    "noncustomer_dt_no_outliers = remove_outliers(noncustomer_dt, boxplot_columns, factor)\n",
    "noncustomer_dt_no_outliers.info()"
   ]
  },
  {
   "cell_type": "code",
   "execution_count": 12,
   "metadata": {},
   "outputs": [
    {
     "name": "stdout",
     "output_type": "stream",
     "text": [
      "DATAFRAME WITHOUT OUTLIERS:\n",
      "\u001b[1mBoxplots for the Revenue\u001b[0m:\n",
      "customers dataset\n"
     ]
    },
    {
     "data": {
      "image/png": "[encoded data removed]",
      "text/plain": [
       "<Figure size 432x288 with 1 Axes>"
      ]
     },
     "metadata": {
      "needs_background": "light"
     },
     "output_type": "display_data"
    },
    {
     "name": "stdout",
     "output_type": "stream",
     "text": [
      "noncustomers dataset\n"
     ]
    },
    {
     "data": {
      "image/png": "[encoded data removed]",
      "text/plain": [
       "<Figure size 432x288 with 1 Axes>"
      ]
     },
     "metadata": {
      "needs_background": "light"
     },
     "output_type": "display_data"
    },
    {
     "name": "stdout",
     "output_type": "stream",
     "text": [
      "\u001b[1mBoxplots for the CNT_EMPLOYEE\u001b[0m:\n",
      "customers dataset\n"
     ]
    },
    {
     "data": {
      "image/png": "[encoded data removed]",
      "text/plain": [
       "<Figure size 432x288 with 1 Axes>"
      ]
     },
     "metadata": {
      "needs_background": "light"
     },
     "output_type": "display_data"
    },
    {
     "name": "stdout",
     "output_type": "stream",
     "text": [
      "noncustomers dataset\n"
     ]
    },
    {
     "data": {
      "image/png": "[encoded data removed]",
      "text/plain": [
       "<Figure size 432x288 with 1 Axes>"
      ]
     },
     "metadata": {
      "needs_background": "light"
     },
     "output_type": "display_data"
    },
    {
     "name": "stdout",
     "output_type": "stream",
     "text": [
      "\u001b[1mBoxplots for the Mobile_potential\u001b[0m:\n",
      "customers dataset\n"
     ]
    },
    {
     "data": {
      "image/png": "[encoded data removed]",
      "text/plain": [
       "<Figure size 432x288 with 1 Axes>"
      ]
     },
     "metadata": {
      "needs_background": "light"
     },
     "output_type": "display_data"
    },
    {
     "name": "stdout",
     "output_type": "stream",
     "text": [
      "noncustomers dataset\n"
     ]
    },
    {
     "data": {
      "image/png": "[encoded data removed]",
      "text/plain": [
       "<Figure size 432x288 with 1 Axes>"
      ]
     },
     "metadata": {
      "needs_background": "light"
     },
     "output_type": "display_data"
    },
    {
     "name": "stdout",
     "output_type": "stream",
     "text": [
      "\u001b[1mBoxplots for the CNT_CB_DENSITY\u001b[0m:\n",
      "customers dataset\n"
     ]
    },
    {
     "data": {
      "image/png": "[encoded data removed]",
      "text/plain": [
       "<Figure size 432x288 with 1 Axes>"
      ]
     },
     "metadata": {
      "needs_background": "light"
     },
     "output_type": "display_data"
    },
    {
     "name": "stdout",
     "output_type": "stream",
     "text": [
      "noncustomers dataset\n"
     ]
    },
    {
     "data": {
      "image/png": "[encoded data removed]",
      "text/plain": [
       "<Figure size 432x288 with 1 Axes>"
      ]
     },
     "metadata": {
      "needs_background": "light"
     },
     "output_type": "display_data"
    },
    {
     "name": "stdout",
     "output_type": "stream",
     "text": [
      "\u001b[1mBoxplots for the CNT_CB_MOB_DENSITY\u001b[0m:\n",
      "customers dataset\n"
     ]
    },
    {
     "data": {
      "image/png": "[encoded data removed]",
      "text/plain": [
       "<Figure size 432x288 with 1 Axes>"
      ]
     },
     "metadata": {
      "needs_background": "light"
     },
     "output_type": "display_data"
    },
    {
     "name": "stdout",
     "output_type": "stream",
     "text": [
      "noncustomers dataset\n"
     ]
    },
    {
     "data": {
      "image/png": "[encoded data removed]",
      "text/plain": [
       "<Figure size 432x288 with 1 Axes>"
      ]
     },
     "metadata": {
      "needs_background": "light"
     },
     "output_type": "display_data"
    },
    {
     "name": "stdout",
     "output_type": "stream",
     "text": [
      "\u001b[1mBoxplots for the CNT_CB_FN_DENSITY\u001b[0m:\n",
      "customers dataset\n"
     ]
    },
    {
     "data": {
      "image/png": "[encoded data removed]",
      "text/plain": [
       "<Figure size 432x288 with 1 Axes>"
      ]
     },
     "metadata": {
      "needs_background": "light"
     },
     "output_type": "display_data"
    },
    {
     "name": "stdout",
     "output_type": "stream",
     "text": [
      "noncustomers dataset\n"
     ]
    },
    {
     "data": {
      "image/png": "[encoded data removed]",
      "text/plain": [
       "<Figure size 432x288 with 1 Axes>"
      ]
     },
     "metadata": {
      "needs_background": "light"
     },
     "output_type": "display_data"
    }
   ],
   "source": [
    "print(\"DATAFRAME WITHOUT OUTLIERS:\")\n",
    "for column in boxplot_columns:\n",
    "    print(f\"{BOLD}Boxplots for the {column}{END}:\")\n",
    "    print(\"customers dataset\")\n",
    "    plt.boxplot(customer_dt_no_outliers[column])\n",
    "    plt.show()\n",
    "    print(\"noncustomers dataset\")\n",
    "    plt.boxplot(noncustomer_dt_no_outliers[column])\n",
    "    plt.show()"
   ]
  },
  {
   "cell_type": "markdown",
   "metadata": {
    "id": "TfWf0K_-KLhv"
   },
   "source": [
    "[**EX5**] [**REPORT**] Calculate the ratio of the values of `City` for `customer_dt` and `noncustomer_dt` datasets. Compare the ratio of each category of each dataset."
   ]
  },
  {
   "cell_type": "markdown",
   "metadata": {
    "id": "0bCyWWPTKLhy"
   },
   "source": [
    "As the number of distinct values is high, we will apply a **integer** encoding through the LabelEncoder() transformation as follows:"
   ]
  },
  {
   "cell_type": "code",
   "execution_count": 13,
   "metadata": {
    "id": "d3cN00r-KLhz"
   },
   "outputs": [
    {
     "name": "stderr",
     "output_type": "stream",
     "text": [
      "C:\\Users\\Usuari\\AppData\\Local\\Temp\\ipykernel_2496\\1171334770.py:1: FutureWarning: The series.append method is deprecated and will be removed from pandas in a future version. Use pandas.concat instead.\n",
      "  City_Categ=customer_dt['City'].append(noncustomer_dt['City'])\n"
     ]
    }
   ],
   "source": [
    "City_Categ=customer_dt['City'].append(noncustomer_dt['City'])"
   ]
  },
  {
   "cell_type": "code",
   "execution_count": 14,
   "metadata": {
    "id": "9fKR-_uXKLh2"
   },
   "outputs": [
    {
     "name": "stderr",
     "output_type": "stream",
     "text": [
      "C:\\Users\\Usuari\\AppData\\Local\\Temp\\ipykernel_2496\\236548166.py:3: SettingWithCopyWarning: \n",
      "A value is trying to be set on a copy of a slice from a DataFrame.\n",
      "Try using .loc[row_indexer,col_indexer] = value instead\n",
      "\n",
      "See the caveats in the documentation: https://pandas.pydata.org/pandas-docs/stable/user_guide/indexing.html#returning-a-view-versus-a-copy\n",
      "  customer_dt['City_coded']=city_encoder.transform(customer_dt['City'].values)\n",
      "C:\\Users\\Usuari\\AppData\\Local\\Temp\\ipykernel_2496\\236548166.py:4: SettingWithCopyWarning: \n",
      "A value is trying to be set on a copy of a slice from a DataFrame.\n",
      "Try using .loc[row_indexer,col_indexer] = value instead\n",
      "\n",
      "See the caveats in the documentation: https://pandas.pydata.org/pandas-docs/stable/user_guide/indexing.html#returning-a-view-versus-a-copy\n",
      "  noncustomer_dt['City_coded']=city_encoder.transform(noncustomer_dt['City'].values)\n"
     ]
    }
   ],
   "source": [
    "city_encoder=LabelEncoder()\n",
    "city_encoder.fit(City_Categ.values)\n",
    "customer_dt['City_coded']=city_encoder.transform(customer_dt['City'].values)\n",
    "noncustomer_dt['City_coded']=city_encoder.transform(noncustomer_dt['City'].values)"
   ]
  },
  {
   "cell_type": "code",
   "execution_count": 15,
   "metadata": {
    "id": "azGmQ302KLh4",
    "outputId": "e9ce7943-0b7d-416e-a9dd-57855a2a8de6"
   },
   "outputs": [
    {
     "data": {
      "text/html": [
       "<div>\n",
       "<style scoped>\n",
       "    .dataframe tbody tr th:only-of-type {\n",
       "        vertical-align: middle;\n",
       "    }\n",
       "\n",
       "    .dataframe tbody tr th {\n",
       "        vertical-align: top;\n",
       "    }\n",
       "\n",
       "    .dataframe thead th {\n",
       "        text-align: right;\n",
       "    }\n",
       "</style>\n",
       "<table border=\"1\" class=\"dataframe\">\n",
       "  <thead>\n",
       "    <tr style=\"text-align: right;\">\n",
       "      <th></th>\n",
       "      <th>City</th>\n",
       "      <th>Customer_Flag</th>\n",
       "      <th>Revenue</th>\n",
       "      <th>Sector</th>\n",
       "      <th>Legal_Form_Code</th>\n",
       "      <th>CNT_EMPLOYEE</th>\n",
       "      <th>CNT_CB_DENSITY</th>\n",
       "      <th>CNT_CB_MOB_DENSITY</th>\n",
       "      <th>CNT_CB_FN_DENSITY</th>\n",
       "      <th>Mobile_potential</th>\n",
       "      <th>City_coded</th>\n",
       "    </tr>\n",
       "  </thead>\n",
       "  <tbody>\n",
       "    <tr>\n",
       "      <th>11548</th>\n",
       "      <td>Haar</td>\n",
       "      <td>1</td>\n",
       "      <td>4000000.0</td>\n",
       "      <td>42.0</td>\n",
       "      <td>14.0</td>\n",
       "      <td>17</td>\n",
       "      <td>891.0</td>\n",
       "      <td>867.0</td>\n",
       "      <td>62.0</td>\n",
       "      <td>1846.104451</td>\n",
       "      <td>824</td>\n",
       "    </tr>\n",
       "    <tr>\n",
       "      <th>11551</th>\n",
       "      <td>Greding</td>\n",
       "      <td>1</td>\n",
       "      <td>11780000.0</td>\n",
       "      <td>74.0</td>\n",
       "      <td>4.0</td>\n",
       "      <td>53</td>\n",
       "      <td>7.0</td>\n",
       "      <td>7.0</td>\n",
       "      <td>0.0</td>\n",
       "      <td>2083.941040</td>\n",
       "      <td>759</td>\n",
       "    </tr>\n",
       "    <tr>\n",
       "      <th>11553</th>\n",
       "      <td>Dörth</td>\n",
       "      <td>1</td>\n",
       "      <td>2050000.0</td>\n",
       "      <td>43.0</td>\n",
       "      <td>14.0</td>\n",
       "      <td>16</td>\n",
       "      <td>30.0</td>\n",
       "      <td>30.0</td>\n",
       "      <td>1.0</td>\n",
       "      <td>2209.827333</td>\n",
       "      <td>467</td>\n",
       "    </tr>\n",
       "    <tr>\n",
       "      <th>11554</th>\n",
       "      <td>Frankfurt</td>\n",
       "      <td>1</td>\n",
       "      <td>853500.0</td>\n",
       "      <td>63.0</td>\n",
       "      <td>14.0</td>\n",
       "      <td>14</td>\n",
       "      <td>870.0</td>\n",
       "      <td>842.0</td>\n",
       "      <td>77.0</td>\n",
       "      <td>2401.464693</td>\n",
       "      <td>623</td>\n",
       "    </tr>\n",
       "    <tr>\n",
       "      <th>11565</th>\n",
       "      <td>Benningen</td>\n",
       "      <td>1</td>\n",
       "      <td>10680000.0</td>\n",
       "      <td>74.0</td>\n",
       "      <td>4.0</td>\n",
       "      <td>17</td>\n",
       "      <td>319.0</td>\n",
       "      <td>317.0</td>\n",
       "      <td>10.0</td>\n",
       "      <td>2579.765989</td>\n",
       "      <td>221</td>\n",
       "    </tr>\n",
       "  </tbody>\n",
       "</table>\n",
       "</div>"
      ],
      "text/plain": [
       "            City  Customer_Flag     Revenue  Sector  Legal_Form_Code  \\\n",
       "11548       Haar              1   4000000.0    42.0             14.0   \n",
       "11551    Greding              1  11780000.0    74.0              4.0   \n",
       "11553      Dörth              1   2050000.0    43.0             14.0   \n",
       "11554  Frankfurt              1    853500.0    63.0             14.0   \n",
       "11565  Benningen              1  10680000.0    74.0              4.0   \n",
       "\n",
       "       CNT_EMPLOYEE  CNT_CB_DENSITY  CNT_CB_MOB_DENSITY  CNT_CB_FN_DENSITY  \\\n",
       "11548            17           891.0               867.0               62.0   \n",
       "11551            53             7.0                 7.0                0.0   \n",
       "11553            16            30.0                30.0                1.0   \n",
       "11554            14           870.0               842.0               77.0   \n",
       "11565            17           319.0               317.0               10.0   \n",
       "\n",
       "       Mobile_potential  City_coded  \n",
       "11548       1846.104451         824  \n",
       "11551       2083.941040         759  \n",
       "11553       2209.827333         467  \n",
       "11554       2401.464693         623  \n",
       "11565       2579.765989         221  "
      ]
     },
     "execution_count": 15,
     "metadata": {},
     "output_type": "execute_result"
    }
   ],
   "source": [
    "customer_dt.head()"
   ]
  },
  {
   "cell_type": "markdown",
   "metadata": {
    "id": "i5BjRBWgKLh7"
   },
   "source": [
    "[**EX5**] [**CODE**] Finally before entering in the training stage,  let's create a `final_dataset` that is the result of stacking `customer_dt`and `noncustomer_dt`considering the following variables: `City_coded`, `Revenue`, `Sector`, `Legal_Form_Code`, `CNT_EMPLOYEE`, `CNT_CB_DENSITY`, `CNT_CB_MOB_DENSITY`, `CNT_CB_FN_DENSITY`and `Mobile_potential`. The 'final_dataset' should include a new variable, `Target`, that takes value **0** for noncustomers and **1** for customers registers. The `Target` will distiguish the two classes to train the model."
   ]
  },
  {
   "cell_type": "markdown",
   "metadata": {
    "id": "yKmKSuHlKLh-"
   },
   "source": [
    "The output should look like this:"
   ]
  },
  {
   "cell_type": "code",
   "execution_count": 16,
   "metadata": {
    "id": "m4o5gxjCKLh_",
    "outputId": "96f50e93-e385-4694-f855-b6fc5ef2e15d"
   },
   "outputs": [
    {
     "name": "stdout",
     "output_type": "stream",
     "text": [
      "<class 'pandas.core.frame.DataFrame'>\n",
      "Int64Index: 6987 entries, 11548 to 11546\n",
      "Data columns (total 11 columns):\n",
      " #   Column              Non-Null Count  Dtype  \n",
      "---  ------              --------------  -----  \n",
      " 0   City                6987 non-null   object \n",
      " 1   Target              6987 non-null   int64  \n",
      " 2   Revenue             6987 non-null   float64\n",
      " 3   Sector              6987 non-null   float64\n",
      " 4   Legal_Form_Code     6987 non-null   float64\n",
      " 5   CNT_EMPLOYEE        6987 non-null   int64  \n",
      " 6   CNT_CB_DENSITY      6987 non-null   float64\n",
      " 7   CNT_CB_MOB_DENSITY  6987 non-null   float64\n",
      " 8   CNT_CB_FN_DENSITY   6987 non-null   float64\n",
      " 9   Mobile_potential    6987 non-null   float64\n",
      " 10  City_coded          6987 non-null   int32  \n",
      "dtypes: float64(7), int32(1), int64(2), object(1)\n",
      "memory usage: 627.7+ KB\n"
     ]
    },
    {
     "name": "stderr",
     "output_type": "stream",
     "text": [
      "C:\\Users\\Usuari\\AppData\\Local\\Temp\\ipykernel_2496\\466971237.py:5: FutureWarning: The frame.append method is deprecated and will be removed from pandas in a future version. Use pandas.concat instead.\n",
      "  final_dataset = cust_to_copy.append(noncust_to_copy)\n"
     ]
    }
   ],
   "source": [
    "cust_to_copy = customer_dt.copy()\n",
    "cust_to_copy.rename(columns = {'Customer_Flag':'Target'}, inplace = True)\n",
    "noncust_to_copy = noncustomer_dt.copy()\n",
    "noncust_to_copy.rename(columns = {'Customer_Flag':'Target'}, inplace = True)\n",
    "final_dataset = cust_to_copy.append(noncust_to_copy)\n",
    "final_dataset.info()"
   ]
  },
  {
   "cell_type": "code",
   "execution_count": 17,
   "metadata": {
    "id": "zcWcoMGbKLiB",
    "outputId": "f6dba835-696b-42eb-f362-42d8143ca31d"
   },
   "outputs": [
    {
     "data": {
      "text/html": [
       "<div>\n",
       "<style scoped>\n",
       "    .dataframe tbody tr th:only-of-type {\n",
       "        vertical-align: middle;\n",
       "    }\n",
       "\n",
       "    .dataframe tbody tr th {\n",
       "        vertical-align: top;\n",
       "    }\n",
       "\n",
       "    .dataframe thead th {\n",
       "        text-align: right;\n",
       "    }\n",
       "</style>\n",
       "<table border=\"1\" class=\"dataframe\">\n",
       "  <thead>\n",
       "    <tr style=\"text-align: right;\">\n",
       "      <th></th>\n",
       "      <th>City</th>\n",
       "      <th>Target</th>\n",
       "      <th>Revenue</th>\n",
       "      <th>Sector</th>\n",
       "      <th>Legal_Form_Code</th>\n",
       "      <th>CNT_EMPLOYEE</th>\n",
       "      <th>CNT_CB_DENSITY</th>\n",
       "      <th>CNT_CB_MOB_DENSITY</th>\n",
       "      <th>CNT_CB_FN_DENSITY</th>\n",
       "      <th>Mobile_potential</th>\n",
       "      <th>City_coded</th>\n",
       "    </tr>\n",
       "  </thead>\n",
       "  <tbody>\n",
       "    <tr>\n",
       "      <th>11542</th>\n",
       "      <td>Grimma</td>\n",
       "      <td>0</td>\n",
       "      <td>6391606.0</td>\n",
       "      <td>60.0</td>\n",
       "      <td>20.0</td>\n",
       "      <td>24</td>\n",
       "      <td>57.0</td>\n",
       "      <td>57.0</td>\n",
       "      <td>0.0</td>\n",
       "      <td>2102.700888</td>\n",
       "      <td>771</td>\n",
       "    </tr>\n",
       "    <tr>\n",
       "      <th>11543</th>\n",
       "      <td>Schönberg</td>\n",
       "      <td>0</td>\n",
       "      <td>305000.0</td>\n",
       "      <td>60.0</td>\n",
       "      <td>4.0</td>\n",
       "      <td>13</td>\n",
       "      <td>9.0</td>\n",
       "      <td>9.0</td>\n",
       "      <td>0.0</td>\n",
       "      <td>1548.889725</td>\n",
       "      <td>1961</td>\n",
       "    </tr>\n",
       "    <tr>\n",
       "      <th>11544</th>\n",
       "      <td>Freiberg</td>\n",
       "      <td>0</td>\n",
       "      <td>4200000.0</td>\n",
       "      <td>23.0</td>\n",
       "      <td>14.0</td>\n",
       "      <td>54</td>\n",
       "      <td>62.0</td>\n",
       "      <td>62.0</td>\n",
       "      <td>6.0</td>\n",
       "      <td>2388.407248</td>\n",
       "      <td>627</td>\n",
       "    </tr>\n",
       "    <tr>\n",
       "      <th>11545</th>\n",
       "      <td>Solms</td>\n",
       "      <td>0</td>\n",
       "      <td>1336495.0</td>\n",
       "      <td>60.0</td>\n",
       "      <td>16.0</td>\n",
       "      <td>20</td>\n",
       "      <td>63.0</td>\n",
       "      <td>61.0</td>\n",
       "      <td>2.0</td>\n",
       "      <td>2657.602909</td>\n",
       "      <td>2011</td>\n",
       "    </tr>\n",
       "    <tr>\n",
       "      <th>11546</th>\n",
       "      <td>Jena</td>\n",
       "      <td>0</td>\n",
       "      <td>4593054.0</td>\n",
       "      <td>64.0</td>\n",
       "      <td>14.0</td>\n",
       "      <td>44</td>\n",
       "      <td>90.0</td>\n",
       "      <td>90.0</td>\n",
       "      <td>5.0</td>\n",
       "      <td>2126.540797</td>\n",
       "      <td>1035</td>\n",
       "    </tr>\n",
       "  </tbody>\n",
       "</table>\n",
       "</div>"
      ],
      "text/plain": [
       "            City  Target    Revenue  Sector  Legal_Form_Code  CNT_EMPLOYEE  \\\n",
       "11542     Grimma       0  6391606.0    60.0             20.0            24   \n",
       "11543  Schönberg       0   305000.0    60.0              4.0            13   \n",
       "11544   Freiberg       0  4200000.0    23.0             14.0            54   \n",
       "11545      Solms       0  1336495.0    60.0             16.0            20   \n",
       "11546       Jena       0  4593054.0    64.0             14.0            44   \n",
       "\n",
       "       CNT_CB_DENSITY  CNT_CB_MOB_DENSITY  CNT_CB_FN_DENSITY  \\\n",
       "11542            57.0                57.0                0.0   \n",
       "11543             9.0                 9.0                0.0   \n",
       "11544            62.0                62.0                6.0   \n",
       "11545            63.0                61.0                2.0   \n",
       "11546            90.0                90.0                5.0   \n",
       "\n",
       "       Mobile_potential  City_coded  \n",
       "11542       2102.700888         771  \n",
       "11543       1548.889725        1961  \n",
       "11544       2388.407248         627  \n",
       "11545       2657.602909        2011  \n",
       "11546       2126.540797        1035  "
      ]
     },
     "execution_count": 17,
     "metadata": {},
     "output_type": "execute_result"
    }
   ],
   "source": [
    "final_dataset.tail()"
   ]
  },
  {
   "cell_type": "markdown",
   "metadata": {
    "id": "riT4OdRHKLiD"
   },
   "source": [
    "To measure the quality of our classifiers, it is necessary to train and test the models with different datasets. For this objective we will use [train_test_split](https://scikit-learn.org/stable/modules/generated/sklearn.model_selection.train_test_split.html) function to generate 4 new datasets: 2 for training and 2 for test: \n",
    "- `X_train`: contains all variables except `Target` for the 80% of `final_dataset`,\n",
    "- `y_train`: contains `Target`variables for the 80% of `final_dataset`, \n",
    "- `X_test`: contains all variables except `Target` for the 20% of `final_dataset`,\n",
    "- `y_test`: contains `Target`variables for the 20% of `final_dataset`."
   ]
  },
  {
   "cell_type": "code",
   "execution_count": 18,
   "metadata": {
    "id": "53-vr7DKKLiD"
   },
   "outputs": [],
   "source": [
    "X_train, X_test, y_train, y_test= train_test_split (final_dataset.iloc[:,:-1], final_dataset.iloc[:,-1], test_size=0.33, random_state=42) "
   ]
  },
  {
   "cell_type": "markdown",
   "metadata": {
    "id": "n-pLvA3EKLiJ"
   },
   "source": [
    "[**EX6**] [**REPORT**] Calculate the lenght of `X_train` and `X_test` datasets. Is it aligned with the `test_size`value selected in the split?"
   ]
  },
  {
   "cell_type": "code",
   "execution_count": 21,
   "metadata": {},
   "outputs": [
    {
     "name": "stdout",
     "output_type": "stream",
     "text": [
      "6987\n",
      "6918\n"
     ]
    },
    {
     "data": {
      "text/plain": [
       "'if len(X_train) == len(final_dataset) * 0.33 and len(X_test) == len(final_dataset) * 0.33:\\n    print(\"Same sizes\")\\nelse:\\n    print(\"No same sizes\")'"
      ]
     },
     "execution_count": 21,
     "metadata": {},
     "output_type": "execute_result"
    }
   ],
   "source": [
    "print(len(final_dataset))\n",
    "print(len(X_test)*3)\n",
    "\"\"\"if len(X_train) == len(final_dataset) * 0.33 and len(X_test) == len(final_dataset) * 0.33:\n",
    "    print(\"Same sizes\")\n",
    "else:\n",
    "    print(\"No same sizes\")\"\"\"\n"
   ]
  },
  {
   "cell_type": "markdown",
   "metadata": {
    "id": "0Doge9L_KLiM"
   },
   "source": [
    "[**EX7**] [**REPORT**] Draw the histograms of `y_train`and `y_test`. Is the dataset balanced (similar number of rows for each class or Target) or imbalanced ? How do you think it could affect to quality of the classifier?"
   ]
  },
  {
   "cell_type": "markdown",
   "metadata": {
    "id": "pVofh0d-KLiT"
   },
   "source": [
    "# 2. Model Training: from baseline models to ensemble¶"
   ]
  },
  {
   "cell_type": "markdown",
   "metadata": {
    "id": "P58EvGU1KLiT"
   },
   "source": [
    "Now we are ready to enter in the training stage of the machine learning models. The common way to procedure is starting with baseline models (i.e. SVM, Decision Trees, Naive Bayes, etc....) and later, try to improve it adjusting hyperparameters of the models or creating more complex models architectures as ensembles."
   ]
  },
  {
   "cell_type": "markdown",
   "metadata": {
    "id": "hKyfjGlmKLiU"
   },
   "source": [
    "## 2.1. Baseline of models: Training and evaluation"
   ]
  },
  {
   "cell_type": "markdown",
   "metadata": {
    "id": "eWN0sijJKLiU"
   },
   "source": [
    "In the following section we are training a SVM, Decision Tree and Naive Bayes algorithms. To do it, we will use the `X_train`and `y_train`datasets.\n",
    "Later on we will evaluate the performance (i.e. **accuracy**, **confusion matrix**, **recall** and **precision**) of each model with the `test`dataset, i.e. `X_test`and `y_test`.\n",
    "\n",
    "\n",
    "Tip 1: You may use [classification_report()](https://scikit-learn.org/stable/modules/generated/sklearn.metrics.classification_report.html) from Sklearn library to calculate the **precision**, **recall** of the model.\n",
    "\n",
    "Tip 2: You may use [confusion_matrix()](https://scikit-learn.org/stable/modules/generated/sklearn.metrics.confusion_matrix.html) from Sklearn library to calculate the confusion matrix of a model.\n",
    "\n",
    "Tip 3: When using Sklearn library, you may use the function **.score(X_test, y_test)** to calculate the accuracy value."
   ]
  },
  {
   "cell_type": "markdown",
   "metadata": {
    "id": "2zQCoC5JKLiV"
   },
   "source": [
    "### Classification with a SVM model"
   ]
  },
  {
   "cell_type": "markdown",
   "metadata": {
    "id": "VnWGf-D6KLiV"
   },
   "source": [
    "[**EX8**] [**CODE**] Train the SVM classifier of the Sklearn library. Evaluate the following metrics for kernel=\"rbf\":\n",
    "- Which is **precision**, **recall** and **accuracy** of the algorithm?\n",
    "- Which is the **confusion matrix**?\n",
    "- Is the algorithm classifying both classes (Target=0 and Target=1) in a similar way? Why?\n",
    "- Compare the **precision** and **recall** of the **training** dataset (i.e.`X_train`and `y_train`) vs the **test** dataset (i.e. `X_test`and `y_test`). Which is better? Why? Which is the correct measure to estimate the performance for other unseen datasets? Why?"
   ]
  },
  {
   "cell_type": "markdown",
   "metadata": {
    "id": "jBTK-h4cKLiY"
   },
   "source": [
    "### Classification with a Decision Tree model"
   ]
  },
  {
   "cell_type": "markdown",
   "metadata": {
    "id": "DMRkY9uvKLiY"
   },
   "source": [
    "[**EX9**] [**CODE**] Train the Decision Tree algorithm from Sklearn library. Evaluate the following metrics:\n",
    "- Which is **precision**, **recall** and **accuracy** of the algorithm?\n",
    "- Which is the **confusion matrix**?\n",
    "- Is Decision Tree algorithm working better than SVM? Why?"
   ]
  },
  {
   "cell_type": "markdown",
   "metadata": {
    "id": "VxSee22YKLiy"
   },
   "source": [
    "### Comparing algorithm consistenly: KFold cross-validation"
   ]
  },
  {
   "cell_type": "markdown",
   "metadata": {
    "id": "K-n_MHhvKLiz"
   },
   "source": [
    "When we are looking for the best algorithm to classify a dataset, it is very useful to compare all of them. Besides, to protect the training from **overfitting** and calculate the performance with less variance than a single train-test split, it is uselful to apply **K-Fold cross-validation**. The way that KFolds works is splitting the dataset into k-parts or **fold** (e.g. k = 3, 5 or k = 10). The algorithm is trained on k − 1 folds with one held back and tested on the held back fold."
   ]
  },
  {
   "cell_type": "markdown",
   "metadata": {
    "id": "23xG-yXNKLiz"
   },
   "source": [
    "[**EX10**] [**CODE**] Train a SVM and Decision Tree algorithms using a KFold cross-validation with **k=5** and calculate the **mean** and **standard deviation** of the **accuracy**. Plot a boxplot of the accuracy for every model. Which is the model with better mean value of the accuracy? Which is the algorithm with less deviation on the accuracy?  \n",
    "\n",
    "Tip 1: You may use [KFold](https://scikit-learn.org/stable/modules/generated/sklearn.model_selection.KFold.html) to apply cross-validation."
   ]
  },
  {
   "cell_type": "markdown",
   "metadata": {
    "id": "_aEAtktzKLi2"
   },
   "source": [
    "The output of the boxplots should look like this:"
   ]
  },
  {
   "cell_type": "code",
   "execution_count": 20,
   "metadata": {
    "id": "bynq6I3OKLi3",
    "outputId": "277f042a-2371-47c5-bf2a-16b9926bd98a",
    "scrolled": true
   },
   "outputs": [
    {
     "ename": "NameError",
     "evalue": "name 'results' is not defined",
     "output_type": "error",
     "traceback": [
      "\u001b[1;31m---------------------------------------------------------------------------\u001b[0m",
      "\u001b[1;31mNameError\u001b[0m                                 Traceback (most recent call last)",
      "\u001b[1;32mc:\\Users\\Usuari\\OneDrive\\Documentos\\GitHub\\Machine-Learning\\PJ2\\P02.ipynb Cell 61'\u001b[0m in \u001b[0;36m<cell line: 5>\u001b[1;34m()\u001b[0m\n\u001b[0;32m      <a href='vscode-notebook-cell:/c%3A/Users/Usuari/OneDrive/Documentos/GitHub/Machine-Learning/PJ2/P02.ipynb#ch0000060?line=2'>3</a>\u001b[0m fig\u001b[39m.\u001b[39msuptitle (\u001b[39m\"\u001b[39m\u001b[39mAlgorithm accuracy comparison\u001b[39m\u001b[39m\"\u001b[39m)\n\u001b[0;32m      <a href='vscode-notebook-cell:/c%3A/Users/Usuari/OneDrive/Documentos/GitHub/Machine-Learning/PJ2/P02.ipynb#ch0000060?line=3'>4</a>\u001b[0m ax\u001b[39m=\u001b[39mfig\u001b[39m.\u001b[39madd_subplot(\u001b[39m111\u001b[39m)\n\u001b[1;32m----> <a href='vscode-notebook-cell:/c%3A/Users/Usuari/OneDrive/Documentos/GitHub/Machine-Learning/PJ2/P02.ipynb#ch0000060?line=4'>5</a>\u001b[0m pyplot\u001b[39m.\u001b[39mboxplot(results)\n\u001b[0;32m      <a href='vscode-notebook-cell:/c%3A/Users/Usuari/OneDrive/Documentos/GitHub/Machine-Learning/PJ2/P02.ipynb#ch0000060?line=5'>6</a>\u001b[0m ax\u001b[39m.\u001b[39mset_xticklabels(names)\n\u001b[0;32m      <a href='vscode-notebook-cell:/c%3A/Users/Usuari/OneDrive/Documentos/GitHub/Machine-Learning/PJ2/P02.ipynb#ch0000060?line=6'>7</a>\u001b[0m pyplot\u001b[39m.\u001b[39mshow()\n",
      "\u001b[1;31mNameError\u001b[0m: name 'results' is not defined"
     ]
    },
    {
     "data": {
      "image/png": "[encoded data removed]",
      "text/plain": [
       "<Figure size 432x288 with 1 Axes>"
      ]
     },
     "metadata": {
      "needs_background": "light"
     },
     "output_type": "display_data"
    }
   ],
   "source": [
    "#boxplot for algorithm comparison\n",
    "fig=pyplot.figure()\n",
    "fig.suptitle (\"Algorithm accuracy comparison\")\n",
    "ax=fig.add_subplot(111)\n",
    "pyplot.boxplot(results)\n",
    "ax.set_xticklabels(names)\n",
    "pyplot.show()"
   ]
  },
  {
   "cell_type": "markdown",
   "metadata": {
    "id": "5h_URjohKLi6"
   },
   "source": [
    "## 2.2 Improving the model"
   ]
  },
  {
   "cell_type": "markdown",
   "metadata": {
    "id": "zDgLSJn_KLi7"
   },
   "source": [
    "As we observe from the baseline models, even though the accuracy is over 70% the classifiers don't distinguish properly both classes, i.e. **Target=1** and **Target=0**.  \n",
    "In this scenario, we should apply another strategies to improve the perfomance. There are several options: from adjusting the balance of the classes or doing the fine tuning of the hyperparameters of the models (for instance the type of kernel in SVM or the minimum number of samples per leaf in Decision Tree) to combine differents models to create ensembles.\n",
    "In this section, we will evaluate our classifiers in two ways:\n",
    "- Forcing the balancing of both classes\n",
    "- Building ensembles of models"
   ]
  },
  {
   "cell_type": "markdown",
   "metadata": {
    "id": "0xGX62GJKLi8"
   },
   "source": [
    "### Balancing the dataset"
   ]
  },
  {
   "cell_type": "markdown",
   "metadata": {
    "id": "7HL7D2DvKLi8"
   },
   "source": [
    "Let's check the type of balancing we have in our training and test datasets."
   ]
  },
  {
   "cell_type": "markdown",
   "metadata": {
    "id": "EV6OfIKgKLi9"
   },
   "source": [
    "[**EX11**][**CODE**] Split the previous `final_dataset`in two datasets: `customer_dt` for class 1 and `noncustomer_dt`for class 0. Calculate the number of samples for the **customers** class (i.e. Target=1) and for the **noncustomers** class (i.e. Target=0). Is the `final_dataset`balanced or imbalanced? Explain two options to match both datasets.\n"
   ]
  },
  {
   "cell_type": "markdown",
   "metadata": {
    "id": "w9rVOQ5iKLjD"
   },
   "source": [
    "Let's undersample the `noncustomer_dt` to balance both datasets:"
   ]
  },
  {
   "cell_type": "code",
   "execution_count": null,
   "metadata": {
    "id": "8a9L5o8iKLjE",
    "outputId": "d98a1048-c96e-4d0a-fee4-61f71bdbb955"
   },
   "outputs": [
    {
     "name": "stdout",
     "output_type": "stream",
     "text": [
      "The new number of samples in noncustomer dataset is: 840\n"
     ]
    }
   ],
   "source": [
    "noncustomer_dt_sample=noncustomer_dt.sample(840)\n",
    "print(\"The new number of samples in noncustomer dataset is:\", len(noncustomer_dt_sample))"
   ]
  },
  {
   "cell_type": "markdown",
   "metadata": {
    "id": "P2l66X4jKLjG"
   },
   "source": [
    "If we append both datasets, the **customer_dt** and the **noncustomer_dt_sample**, the new `final_dataset`looks like:"
   ]
  },
  {
   "cell_type": "code",
   "execution_count": null,
   "metadata": {
    "id": "C0WTasz3KLjH",
    "outputId": "472f4dbb-8f83-4be0-c454-95e35f3e661b"
   },
   "outputs": [
    {
     "data": {
      "text/plain": [
       "<AxesSubplot:>"
      ]
     },
     "execution_count": 30,
     "metadata": {},
     "output_type": "execute_result"
    },
    {
     "data": {
      "image/png": "[encoded data removed]",
      "text/plain": [
       "<Figure size 432x288 with 1 Axes>"
      ]
     },
     "metadata": {
      "needs_background": "light"
     },
     "output_type": "display_data"
    }
   ],
   "source": [
    "final_dataset=customer_dt.append(noncustomer_dt_sample).reset_index().drop('index', axis=1)\n",
    "final_dataset=final_dataset.loc[:,['City_coded', 'Revenue', 'Sector', 'Legal_Form_Code', 'CNT_EMPLOYEE', 'CNT_CB_DENSITY',\n",
    "                            'CNT_CB_MOB_DENSITY', 'CNT_CB_FN_DENSITY', 'Mobile_potential','Target']]\n",
    "final_dataset.Target.hist()"
   ]
  },
  {
   "cell_type": "markdown",
   "metadata": {
    "id": "ZQ0HyRiOKLjJ"
   },
   "source": [
    "[**EX12**][**CODE**][**REPORT**] Train a SVC and Decision Tree algorithm with the new `final_dataset`. Evaluate the **recall**, **precision** and **confusion matrix** of all 3 models.\n",
    "- Which has better accuracy?\n",
    "- Which is the model with better recall? And accuracy?\n",
    "- Which model you recommend to classify both classes? Justify your answer"
   ]
  },
  {
   "cell_type": "markdown",
   "metadata": {
    "id": "So2hzc-BKLjU"
   },
   "source": [
    "### Ensembling models"
   ]
  },
  {
   "cell_type": "markdown",
   "metadata": {
    "id": "7GbOE6CMKLjU"
   },
   "source": [
    "Another mechanism to improve the performance of a classifier is to combine several algorithms. The three most popular methods for combining models are:\n",
    "- Bagging combines multiple models that are trained with different subsamples of the training dataset.\n",
    "- Boosting combines multiple models in cascade and each of them learns to fix the prediction errors of the prior model.\n",
    "- Voting combines statistically the output of several models.\n",
    "\n",
    "Usually Bagging and Boosting are formed by models of the same type meanwhile voting could be formed by different models."
   ]
  },
  {
   "cell_type": "markdown",
   "metadata": {
    "id": "NgkK3L4xKLjV"
   },
   "source": [
    "### Voting ensemble"
   ]
  },
  {
   "cell_type": "markdown",
   "metadata": {
    "id": "24SsOU59KLjW"
   },
   "source": [
    "[**EX13**][**CODE**][**REPORT**] Build a **voting** ensemble formed by a SVM and Decision Tree and train it with the balanced training dataset. Calculate the **precision**, **recall** and **confusion matrix** of the new classifier. Is it better than any of the previous baseline models? Justify your answer.\n",
    "\n",
    "Tip: You may use [VotingClassifier()](https://scikit-learn.org/stable/modules/generated/sklearn.ensemble.VotingClassifier.html) to build this type of ensemble."
   ]
  },
  {
   "cell_type": "markdown",
   "metadata": {
    "id": "ocJiGPkJKLjY"
   },
   "source": [
    "### Bagging ensemble: Random Forest"
   ]
  },
  {
   "cell_type": "markdown",
   "metadata": {
    "id": "LQMj5ap5KLjZ"
   },
   "source": [
    "[**EX14**][**CODE**][**REPORT**] Build a **Bagging** ensemble based on Random Forest. Random Forest is considered a bagging ensemble formed by Decision Trees algorithms. Train the Random Forest with the balanced training dataset, i.e. `X_train` and `y_train`. Calculate the **precision**, **recall** and **confusion matrix** of the new classifier. Is it better than any of the previous baseline models? Justify your answer.\n",
    "\n",
    "Tip: You may use [RandomForestClassifier()](https://scikit-learn.org/stable/modules/generated/sklearn.ensemble.RandomForestClassifier.html) to build this type of ensemble."
   ]
  },
  {
   "cell_type": "markdown",
   "metadata": {
    "id": "4G08f_aEKLjd"
   },
   "source": [
    "[**EX15**][**REPORT**] Plot the histograms of the probabilities resulting of the prediction of the Random Forest model for class 0 and class 1."
   ]
  },
  {
   "cell_type": "markdown",
   "metadata": {
    "id": "K9Vbyi1lKLjg"
   },
   "source": [
    "### Boosting ensemble: Gradient Tree Boosting"
   ]
  },
  {
   "cell_type": "markdown",
   "metadata": {
    "id": "VTZvSgz8KLji"
   },
   "source": [
    "[**EX16**][**CODE**][**REPORT**] Build a **Boosting** ensemble based on Gradient Tree Boosting (GBT). There are several boosting algorithms as Adaboost, etc.  Train the GBT with the balanced training dataset, i.e. `X_train` and `y_train`. Calculate the **precision**, **recall** and **confusion matrix** of the new classifier. Is it better than any of the previous baseline models? Justify your answer.\n",
    "\n",
    "Tip: You may use [GradientBoostingClassifier](https://scikit-learn.org/stable/modules/generated/sklearn.ensemble.GradientBoostingClassifier.html) to build this type of ensemble."
   ]
  },
  {
   "cell_type": "markdown",
   "metadata": {
    "id": "KLwM8rn_KLjl"
   },
   "source": [
    "[**EX17**][**REPORT**] Plot the histograms of the probabilities resulting of the prediction of the GBT model for class 0 and class 1. Compare it with histogram of Random Forest. Which one classifies better from your point of view? Why? "
   ]
  },
  {
   "cell_type": "markdown",
   "metadata": {
    "id": "UvbS-zysKLjq"
   },
   "source": [
    "# 3. Creating a Business opportunity with Machine Learning"
   ]
  },
  {
   "cell_type": "markdown",
   "metadata": {
    "id": "oYWmrLYQKLjP"
   },
   "source": [
    "The cut-off is the **threshold of the probability of the prediction** to assign to class 0 or class 1 the prediction. If probability > cut-off, the model classifies as 1; otherwise, model classifies as 0. \n",
    "The cut-off is a value that can be adjusted to increase the recall or the precision. Usually, there is a **trade-off** between improving the recall-precision."
   ]
  },
  {
   "cell_type": "markdown",
   "metadata": {
    "id": "XBhZ9VKgKLjq"
   },
   "source": [
    "[**EX18**][**CODE**][**REPORT**] Execute the prediction for the selected model. Adjust the cutoff value to optimize the classifier if you consider necessary. How many **non customers** are you going to send to the sales managers to sell our products to them?\n",
    "\n",
    "\n"
   ]
  },
  {
   "cell_type": "markdown",
   "metadata": {
    "id": "2OKOVuCNKLjt"
   },
   "source": [
    "Usually, Marketing department needs to know and understand the main features of the algorithms. The code below returns the importance of each feature of the `training_dataset`."
   ]
  },
  {
   "cell_type": "code",
   "execution_count": null,
   "metadata": {
    "id": "nX4VfjM4KLjt"
   },
   "outputs": [],
   "source": [
    "features=['City_coded','Revenue', 'Sector', 'Legal_Form_Code', 'CNT_EMPLOYEE', 'CNT_CB_DENSITY',\n",
    "                            'CNT_CB_MOB_DENSITY', 'CNT_CB_FN_DENS', 'Mobile_potential']\n",
    "features_values=model_GBT.feature_importances_\n",
    "features_importance=[]\n",
    "for i in range (len(features)):\n",
    "    features_importance.append([features[i],features_values[i]])"
   ]
  },
  {
   "cell_type": "markdown",
   "metadata": {
    "id": "3gE_DYCvKLjw"
   },
   "source": [
    "[**EX19**][**CODE**][**REPORT**] Order the features by importance. Which are the top 3 features to discriminate between **non customers** and **customers**?"
   ]
  },
  {
   "cell_type": "markdown",
   "metadata": {
    "id": "-htmJrDzKLjy"
   },
   "source": [
    "  [**EX20**][**REPORT**] In this project, we have used classification techniques to identify potential customers. We have adjusted the main classification parameters as cutoff, recall and precision according to the final purpose: in out case, identify **non customers** that could be interested to buy our products. Consider a new campaign focused on accelerating the sales of a **New IoT tariff** to our customers. Answer the following questions:\n",
    "- In this case, which is the **target** variable? Which are **target=0** samples? And **target=1**?\n",
    "- As the marketing campaing is oriented to our customers we will have further information about them in our internal systems. In particular, we could add to the information of the previous section 3 new variables: data and voice consumption and mobile expense. Adding more data to the dataset may imply more computational data and cost. Would you add these 3 new variables to dataset? Justify your answer.\n",
    "- Today this New IoT tariff is very popular among our customers. Will the training dataset be balanced or unbalanced? Justify your answer.\n",
    "\n",
    "Imagine the following scatter plot (`Number of IoT devices (units)` vs `Number of IoT applications (units)`):\n",
    "\n",
    "![<scatter_plot>](scatter_plot.png)\n",
    "- Describe in terms of `Number of IoT devices (units)` and `Number of IoT applications (units)` the **pattern** of target 1 customers\n",
    "- Draw a plane to separate both classes\n",
    "- Is the training dataset balanced? Justiy your answer\n",
    "- According to the previous plane, which are the customers to be phoned to sell the New IoT tariff?\n",
    "- Could you estimate the **precision** and **recall** of the classification?"
   ]
  },
  {
   "cell_type": "markdown",
   "metadata": {
    "id": "WqGzZF61KLjy"
   },
   "source": [
    "*******"
   ]
  },
  {
   "cell_type": "markdown",
   "metadata": {
    "id": "d90P5bXGKLjz"
   },
   "source": [
    "# Deliver"
   ]
  },
  {
   "cell_type": "markdown",
   "metadata": {
    "id": "vsdxRz2aKLj0"
   },
   "source": [
    "Deliver:\n",
    "\n",
    "* A zip file containing your notebook (.ipynb file) with all the [**CODE**] parts implemented.\n",
    "* A 5-pages PDF report including all parts of this notebook marked with \"[**REPORT**]\"\n",
    "\n",
    "The report should end with the following statement: **We hereby declare that, except for the code provided by the course instructors, all of our code, report, and figures were produced by ourselves.**"
   ]
  },
  {
   "cell_type": "code",
   "execution_count": null,
   "metadata": {
    "id": "Rwqgx07mKLj0"
   },
   "outputs": [],
   "source": []
  }
 ],
 "metadata": {
  "colab": {
   "name": "P02.ipynb",
   "provenance": []
  },
  "interpreter": {
   "hash": "b56be27badcd85cfac02cb1b85a2ceed989d0358a4aee51e09ae41ed1d258a68"
  },
  "kernelspec": {
   "display_name": "Python 3.10.4 64-bit",
   "language": "python",
   "name": "python3"
  },
  "language_info": {
   "codemirror_mode": {
    "name": "ipython",
    "version": 3
   },
   "file_extension": ".py",
   "mimetype": "text/x-python",
   "name": "python",
   "nbconvert_exporter": "python",
   "pygments_lexer": "ipython3",
   "version": "3.10.4"
  },
  "toc": {
   "base_numbering": 1,
   "nav_menu": {},
   "number_sections": true,
   "sideBar": true,
   "skip_h1_title": false,
   "title_cell": "Table of Contents",
   "title_sidebar": "Contents",
   "toc_cell": false,
   "toc_position": {},
   "toc_section_display": true,
   "toc_window_display": false
  },
  "varInspector": {
   "cols": {
    "lenName": 16,
    "lenType": 16,
    "lenVar": 40
   },
   "kernels_config": {
    "python": {
     "delete_cmd_postfix": "",
     "delete_cmd_prefix": "del ",
     "library": "var_list.py",
     "varRefreshCmd": "print(var_dic_list())"
    },
    "r": {
     "delete_cmd_postfix": ") ",
     "delete_cmd_prefix": "rm(",
     "library": "var_list.r",
     "varRefreshCmd": "cat(var_dic_list()) "
    }
   },
   "types_to_exclude": [
    "module",
    "function",
    "builtin_function_or_method",
    "instance",
    "_Feature"
   ],
   "window_display": false
  }
 },
 "nbformat": 4,
 "nbformat_minor": 1
}
