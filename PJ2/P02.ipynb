{
 "cells": [
  {
   "cell_type": "markdown",
   "metadata": {
    "id": "EzfnlG_gKLhF"
   },
   "source": [
    "# <center> Project 02: Application of classification in Marketing and Sales </center>"
   ]
  },
  {
   "cell_type": "markdown",
   "metadata": {
    "id": "jdPg2j8dKLhG"
   },
   "source": [
    "# Seminar goals:\n",
    "In this project, we will develop and apply different supervised classification tecnhiques. These methodologies are broadly used in business to multiple use cases as:\n",
    "- identify **new customers** in the market\n",
    "- identify customers in our internal Data Warehouse with **more likely** to buy a new product\n",
    "- identify unsatisfied customers and thus, likely to be **churners**\n",
    "- classify text into categories for spam identification or to process messages or emails from our customers\n",
    "\n",
    "During this project we will follow the end-to-end Machine Learning process: from data gathering and cleaning, exploratory data analysis, feature engineering and finally, training and prediction. In particular, the main sections of this project are:\n",
    "1. Data understanding and preparation: exploration of the dataset and feature engineering (missing values, outlier identification, categorical variables management) \n",
    "2. Model Training: training the baseline SVM and Decision Trees. Analysis of metrics (recall, precision, confusion metrics) and improvement the classification through several techniques as undersampling to balance or ensemble of models\n",
    "3. Creating a Business opportunity with Machine Learning: selection of the best model and identification of the most important features\n",
    "\n",
    "\n",
    "\n",
    "We will apply all these techniques to identify new customers to capture and improve sales in a **marketing use case**."
   ]
  },
  {
   "cell_type": "markdown",
   "metadata": {
    "id": "UYAFrceqKLhH"
   },
   "source": [
    "### Due date: up to June 17th, 23:55h. \n",
    "### Submission procedure: via Moodle."
   ]
  },
  {
   "cell_type": "markdown",
   "metadata": {
    "id": "-A4_3DZEKLhI"
   },
   "source": [
    "*******"
   ]
  },
  {
   "cell_type": "markdown",
   "metadata": {
    "id": "FZY4NReQKLhI"
   },
   "source": [
    "# 0. Context:  Using Machine Learning to increase our customers base"
   ]
  },
  {
   "cell_type": "markdown",
   "metadata": {
    "id": "diyA2X3aKLhJ"
   },
   "source": [
    "We work as a head of data science and AI in a new Internet of Things (IoT) company. Our company designs, builds and implements wireless IoT products.\n",
    "\n",
    "Our marketing colleagues are planning to launch a new commercial campaign for capturing new customers. We have to decide which companies are the target to be visited by our sales managers. As the cost to send a sales manager to visit a potential customer is quite high, we have to select from the total market base, those companies that are more likely to buy any of our products and become a new customer. \n",
    "\n",
    "To support this new campaign, we are **using several of the most important classification techniques**. We will manage key evaluation aspects of a classification as **recall, precision, false positive, etc...** to decide which are the best potential customers. \n"
   ]
  },
  {
   "cell_type": "markdown",
   "metadata": {
    "id": "1hxQ0QtwKLhK"
   },
   "source": [
    "## 0.1 Dataset"
   ]
  },
  {
   "cell_type": "markdown",
   "metadata": {
    "id": "uRr4nn5-KLhK"
   },
   "source": [
    "In this practice we are using a new dataset named `market_dt.csv`. This file contains information of **IoT market**, i.e. companies that could be interested to buy IoT products or they have already. In particular, the detailed information for each customer is:\n",
    "- *City*: Name of the city where the company is located\n",
    "- *Customer_Flag*: It is a flag that is 1 for current customers and 0 for non-customers\n",
    "- *Revenue*: The annual incomes of the company\n",
    "- *Sector*: It's an integer that identifies the sector of the company's activity\n",
    "- *CNT_EMPLOYEE*: Number of employees of the company\n",
    "- *CNT_CB_DENSITY*: Number of companies close\n",
    "- *CNT_CB_MOB_DENSITY*: Number of companies with mobile services\n",
    "- *CNT_CB_FN_DENSITY*: Number of companies with fixed services\n",
    "- *Legal_Form_Code*: It's an integer that identifies the legal type of the company: big, small or medium company\n",
    "- *Mobile potential*: It's an estimation of the total annual expense that a company can do in telco services, including IoT"
   ]
  },
  {
   "cell_type": "markdown",
   "metadata": {
    "id": "6U4Sxn_kKLhL"
   },
   "source": [
    "## 0.2. Imports"
   ]
  },
  {
   "cell_type": "code",
   "execution_count": 36,
   "metadata": {
    "id": "t4bx2UI5KLhM"
   },
   "outputs": [],
   "source": [
    "import pandas as pd\n",
    "import numpy as np\n",
    "import matplotlib.pyplot as plt\n",
    "from matplotlib import pyplot\n",
    "import matplotlib.cm as cm\n",
    "import seaborn as sns\n",
    "from scipy.stats import iqr\n",
    "from scipy.stats import chi2_contingency\n",
    "from sklearn.preprocessing import StandardScaler\n",
    "from sklearn.preprocessing import Normalizer\n",
    "from sklearn.preprocessing import MinMaxScaler\n",
    "from sklearn.preprocessing import LabelEncoder\n",
    "from sklearn.model_selection import train_test_split\n",
    "from sklearn.linear_model import SGDClassifier\n",
    "from sklearn.svm import SVC\n",
    "from sklearn.model_selection import train_test_split\n",
    "from sklearn.metrics import accuracy_score, auc, roc_curve, classification_report, confusion_matrix, precision_score, recall_score, precision_recall_curve\n",
    "from sklearn.tree import DecisionTreeClassifier\n",
    "from sklearn.ensemble import RandomForestClassifier, GradientBoostingClassifier, VotingClassifier, AdaBoostClassifier \n",
    "from sklearn.model_selection import KFold\n",
    "from sklearn.model_selection import cross_val_score\n",
    "from sklearn.model_selection import StratifiedKFold"
   ]
  },
  {
   "cell_type": "code",
   "execution_count": 37,
   "metadata": {},
   "outputs": [],
   "source": [
    "#Visualization purposes :)\n",
    "BOLD = '\\033[1m'\n",
    "END = '\\033[0m'"
   ]
  },
  {
   "cell_type": "markdown",
   "metadata": {
    "id": "o7OfXFAoKLhP"
   },
   "source": [
    "# 1. Data understanding and preparation"
   ]
  },
  {
   "cell_type": "markdown",
   "metadata": {
    "id": "T0GEXTMZKLhQ"
   },
   "source": [
    "The first stage in any Machine Learning project is to have a clear understanding of the dataset from a statistical point of view but also from the perspective of the value of their variables to solve the use case or problem. To achieve this goal we need to \"clean\" and \"transform\" the data. All this process is known as **Data Wrangling**. In particular, the whole data wrangling process implies:\n",
    "- Define and apply an strategy for nulls and coding for categorical variables\n",
    "- Analyze the variables distribution and correlation between them\n",
    "- Remove outliers\n",
    "- etc....\n"
   ]
  },
  {
   "cell_type": "markdown",
   "metadata": {
    "id": "tzaVBJ98KLhQ"
   },
   "source": [
    "Let's open the csv with separator \";\" and assign to a dataframe variable (use read_csv from Pandas library). Let's see the top 5 elements."
   ]
  },
  {
   "cell_type": "code",
   "execution_count": 38,
   "metadata": {
    "id": "t7w8v94aKLhR",
    "outputId": "1d91411a-486a-4340-f9c5-fda71d29d9bd"
   },
   "outputs": [
    {
     "data": {
      "text/html": [
       "<div>\n",
       "<style scoped>\n",
       "    .dataframe tbody tr th:only-of-type {\n",
       "        vertical-align: middle;\n",
       "    }\n",
       "\n",
       "    .dataframe tbody tr th {\n",
       "        vertical-align: top;\n",
       "    }\n",
       "\n",
       "    .dataframe thead th {\n",
       "        text-align: right;\n",
       "    }\n",
       "</style>\n",
       "<table border=\"1\" class=\"dataframe\">\n",
       "  <thead>\n",
       "    <tr style=\"text-align: right;\">\n",
       "      <th></th>\n",
       "      <th>City</th>\n",
       "      <th>Customer_Flag</th>\n",
       "      <th>Revenue</th>\n",
       "      <th>Sector</th>\n",
       "      <th>Legal_Form_Code</th>\n",
       "      <th>CNT_EMPLOYEE</th>\n",
       "      <th>CNT_CB_DENSITY</th>\n",
       "      <th>CNT_CB_MOB_DENSITY</th>\n",
       "      <th>CNT_CB_FN_DENSITY</th>\n",
       "      <th>Mobile_potential</th>\n",
       "    </tr>\n",
       "  </thead>\n",
       "  <tbody>\n",
       "    <tr>\n",
       "      <th>0</th>\n",
       "      <td>Bremen</td>\n",
       "      <td>0</td>\n",
       "      <td>21339309.0</td>\n",
       "      <td>26.0</td>\n",
       "      <td>14.0</td>\n",
       "      <td>28</td>\n",
       "      <td>161.0</td>\n",
       "      <td>154.0</td>\n",
       "      <td>10.0</td>\n",
       "      <td>2505.609457</td>\n",
       "    </tr>\n",
       "    <tr>\n",
       "      <th>1</th>\n",
       "      <td>Steinfurt</td>\n",
       "      <td>0</td>\n",
       "      <td>NaN</td>\n",
       "      <td>74.0</td>\n",
       "      <td>4.0</td>\n",
       "      <td>52</td>\n",
       "      <td>41.0</td>\n",
       "      <td>41.0</td>\n",
       "      <td>1.0</td>\n",
       "      <td>2714.197904</td>\n",
       "    </tr>\n",
       "    <tr>\n",
       "      <th>2</th>\n",
       "      <td>Magdeburg</td>\n",
       "      <td>0</td>\n",
       "      <td>NaN</td>\n",
       "      <td>83.0</td>\n",
       "      <td>28.0</td>\n",
       "      <td>29</td>\n",
       "      <td>188.0</td>\n",
       "      <td>187.0</td>\n",
       "      <td>6.0</td>\n",
       "      <td>2245.828787</td>\n",
       "    </tr>\n",
       "    <tr>\n",
       "      <th>3</th>\n",
       "      <td>Leipzig</td>\n",
       "      <td>0</td>\n",
       "      <td>NaN</td>\n",
       "      <td>61.0</td>\n",
       "      <td>28.0</td>\n",
       "      <td>13</td>\n",
       "      <td>597.0</td>\n",
       "      <td>594.0</td>\n",
       "      <td>21.0</td>\n",
       "      <td>2163.784785</td>\n",
       "    </tr>\n",
       "    <tr>\n",
       "      <th>4</th>\n",
       "      <td>Tamm</td>\n",
       "      <td>0</td>\n",
       "      <td>NaN</td>\n",
       "      <td>74.0</td>\n",
       "      <td>4.0</td>\n",
       "      <td>40</td>\n",
       "      <td>336.0</td>\n",
       "      <td>334.0</td>\n",
       "      <td>10.0</td>\n",
       "      <td>2338.611264</td>\n",
       "    </tr>\n",
       "  </tbody>\n",
       "</table>\n",
       "</div>"
      ],
      "text/plain": [
       "        City  Customer_Flag     Revenue  Sector  Legal_Form_Code  \\\n",
       "0     Bremen              0  21339309.0    26.0             14.0   \n",
       "1  Steinfurt              0         NaN    74.0              4.0   \n",
       "2  Magdeburg              0         NaN    83.0             28.0   \n",
       "3    Leipzig              0         NaN    61.0             28.0   \n",
       "4       Tamm              0         NaN    74.0              4.0   \n",
       "\n",
       "   CNT_EMPLOYEE  CNT_CB_DENSITY  CNT_CB_MOB_DENSITY  CNT_CB_FN_DENSITY  \\\n",
       "0            28           161.0               154.0               10.0   \n",
       "1            52            41.0                41.0                1.0   \n",
       "2            29           188.0               187.0                6.0   \n",
       "3            13           597.0               594.0               21.0   \n",
       "4            40           336.0               334.0               10.0   \n",
       "\n",
       "   Mobile_potential  \n",
       "0       2505.609457  \n",
       "1       2714.197904  \n",
       "2       2245.828787  \n",
       "3       2163.784785  \n",
       "4       2338.611264  "
      ]
     },
     "execution_count": 38,
     "metadata": {},
     "output_type": "execute_result"
    }
   ],
   "source": [
    "market_dt = pd.read_csv('market_dt.csv', usecols={'City', 'Customer_Flag', 'Revenue', 'Sector', 'CNT_EMPLOYEE',\n",
    "                                                 'CNT_CB_DENSITY', 'CNT_CB_MOB_DENSITY', 'CNT_CB_FN_DENSITY',\n",
    "                                                 'Legal_Form_Code','Mobile_potential'}, sep=\";\")\n",
    "market_dt.head()"
   ]
  },
  {
   "cell_type": "markdown",
   "metadata": {
    "id": "osFK9XOAKLhV"
   },
   "source": [
    "[**EX1**] [**REPORT**] Let's identify the type of the variables (integer, float, chart...) and the size of the dataset and the file. Which are the variable with more nulls? And with no nulls? Why 'City' variables is considered as object type?\n",
    "\n",
    "Tip: [.info()](https://www.geeksforgeeks.org/python-pandas-dataframe-info/) is a function that reports the main characteristics of a dataframe."
   ]
  },
  {
   "cell_type": "code",
   "execution_count": 39,
   "metadata": {},
   "outputs": [
    {
     "name": "stdout",
     "output_type": "stream",
     "text": [
      "<class 'pandas.core.frame.DataFrame'>\n",
      "RangeIndex: 13335 entries, 0 to 13334\n",
      "Data columns (total 10 columns):\n",
      " #   Column              Non-Null Count  Dtype  \n",
      "---  ------              --------------  -----  \n",
      " 0   City                13335 non-null  object \n",
      " 1   Customer_Flag       13335 non-null  int64  \n",
      " 2   Revenue             8589 non-null   float64\n",
      " 3   Sector              13235 non-null  float64\n",
      " 4   Legal_Form_Code     13229 non-null  float64\n",
      " 5   CNT_EMPLOYEE        13335 non-null  int64  \n",
      " 6   CNT_CB_DENSITY      10265 non-null  float64\n",
      " 7   CNT_CB_MOB_DENSITY  10265 non-null  float64\n",
      " 8   CNT_CB_FN_DENSITY   10265 non-null  float64\n",
      " 9   Mobile_potential    13335 non-null  float64\n",
      "dtypes: float64(7), int64(2), object(1)\n",
      "memory usage: 1.0+ MB\n"
     ]
    }
   ],
   "source": [
    "market_dt.info()"
   ]
  },
  {
   "cell_type": "markdown",
   "metadata": {
    "id": "rnjxSOlfKLhZ"
   },
   "source": [
    "Once we have the first contact with the dataset, next step is to decide the strategy to apply to **nulls** values. There are several options as removing the rows with any **null**, assigning a constant value (e.g. median or mean value), etc.... In our case, we are removing the rows with **null** in any of the values."
   ]
  },
  {
   "cell_type": "markdown",
   "metadata": {
    "id": "j6WN5zKGKLhZ"
   },
   "source": [
    "[**EX2**] [**CODE**] Eliminate those rows which has nulls in any variable. Let's check that there is no nulls in any variable. Which is the size of the resulting dataset? "
   ]
  },
  {
   "cell_type": "code",
   "execution_count": 40,
   "metadata": {},
   "outputs": [],
   "source": [
    "for column in market_dt:\n",
    "    market_dt = market_dt[market_dt[column].isna()==False] # modifying the dataset so that we only keep the data with no nulls"
   ]
  },
  {
   "cell_type": "markdown",
   "metadata": {},
   "source": [
    "Let's, first of all, see how many clients we already have out of all the potential clients in the dataset"
   ]
  },
  {
   "cell_type": "code",
   "execution_count": 41,
   "metadata": {},
   "outputs": [
    {
     "name": "stdout",
     "output_type": "stream",
     "text": [
      "\u001b[1mThe size of the resulting dataset, that is, the total number of customers after removing the nulls is:\u001b[0m 1111\n"
     ]
    }
   ],
   "source": [
    "total_customers = 0\n",
    "for el in market_dt['Customer_Flag']:\n",
    "    total_customers += el # cumputing the total sum of customers\n",
    "\n",
    "print(f'{BOLD}The size of the resulting dataset, that is, the total number of customers after removing the nulls is:{END} {total_customers}')"
   ]
  },
  {
   "cell_type": "code",
   "execution_count": 42,
   "metadata": {
    "id": "H2dXqQbfKLhf",
    "outputId": "e0b6d8cf-e02e-46ed-bdb6-811b71a0a6b3"
   },
   "outputs": [
    {
     "name": "stdout",
     "output_type": "stream",
     "text": [
      "<class 'pandas.core.frame.DataFrame'>\n",
      "Int64Index: 6987 entries, 0 to 13321\n",
      "Data columns (total 10 columns):\n",
      " #   Column              Non-Null Count  Dtype  \n",
      "---  ------              --------------  -----  \n",
      " 0   City                6987 non-null   object \n",
      " 1   Customer_Flag       6987 non-null   int64  \n",
      " 2   Revenue             6987 non-null   float64\n",
      " 3   Sector              6987 non-null   float64\n",
      " 4   Legal_Form_Code     6987 non-null   float64\n",
      " 5   CNT_EMPLOYEE        6987 non-null   int64  \n",
      " 6   CNT_CB_DENSITY      6987 non-null   float64\n",
      " 7   CNT_CB_MOB_DENSITY  6987 non-null   float64\n",
      " 8   CNT_CB_FN_DENSITY   6987 non-null   float64\n",
      " 9   Mobile_potential    6987 non-null   float64\n",
      "dtypes: float64(7), int64(2), object(1)\n",
      "memory usage: 600.4+ KB\n"
     ]
    }
   ],
   "source": [
    "market_dt.info()"
   ]
  },
  {
   "cell_type": "markdown",
   "metadata": {
    "id": "uR4UCXz6KLhj"
   },
   "source": [
    "In Machine Learning, it is key to analyze the variables from a statistical point of view: knowing the distribution of each variable, their mean and median are key to identify any transformation to apply before training the model. \n",
    "Furthermore, due to we are training a classifier (in our case, to classify between ***customers*** and ***non customers***), this analysis should be done for both classes separetly."
   ]
  },
  {
   "cell_type": "markdown",
   "metadata": {
    "id": "L2r-IQ7OKLhj"
   },
   "source": [
    "[**EX3**] [**REPORT**] Create a `customer_dt`and `noncustomer_dt`datasets based on the `Customer_Flag`variable (`Customer_Flag`=1 for **customers** and 0 for **noncustomers**). Build a boxplot for the `Revenue`, `CNT_EMPLOYEE`, `Mobile_potential` and `CNT_CB_Density` numeric variables for both datasets. Which are the main differences between `customer_dt`and `noncustomer_dt` datasets comparing these variables. Which is the dataset with `CNT_EMPLOYEE` higher? Which datasets have more outliers in `Revenues`? Which is the Q1, median (=Q2) and Q3 for `Revenues`and `Mobile_potential`?\n",
    "\n",
    "\n",
    "Tip: you may have to use the [boxplot](https://matplotlib.org/3.1.1/api/_as_gen/matplotlib.pyplot.boxplot.html) function."
   ]
  },
  {
   "cell_type": "code",
   "execution_count": 43,
   "metadata": {},
   "outputs": [],
   "source": [
    "customer_dt = market_dt[market_dt['Customer_Flag'] == 1] # new dataset for customers\n",
    "noncustomer_dt = market_dt[market_dt['Customer_Flag'] == 0] # new dataset for noncustomers"
   ]
  },
  {
   "cell_type": "code",
   "execution_count": 44,
   "metadata": {},
   "outputs": [
    {
     "name": "stdout",
     "output_type": "stream",
     "text": [
      "\u001b[1mBoxplots for the Revenue\u001b[0m:\n"
     ]
    },
    {
     "data": {
      "image/png": "[encoded data removed]",
      "text/plain": [
       "<Figure size 432x288 with 1 Axes>"
      ]
     },
     "metadata": {
      "needs_background": "light"
     },
     "output_type": "display_data"
    },
    {
     "name": "stdout",
     "output_type": "stream",
     "text": [
      "\u001b[1mBoxplots for the CNT_EMPLOYEE\u001b[0m:\n"
     ]
    },
    {
     "data": {
      "image/png": "[encoded data removed]",
      "text/plain": [
       "<Figure size 432x288 with 1 Axes>"
      ]
     },
     "metadata": {
      "needs_background": "light"
     },
     "output_type": "display_data"
    },
    {
     "name": "stdout",
     "output_type": "stream",
     "text": [
      "\u001b[1mBoxplots for the Mobile_potential\u001b[0m:\n"
     ]
    },
    {
     "data": {
      "image/png": "[encoded data removed]",
      "text/plain": [
       "<Figure size 432x288 with 1 Axes>"
      ]
     },
     "metadata": {
      "needs_background": "light"
     },
     "output_type": "display_data"
    },
    {
     "name": "stdout",
     "output_type": "stream",
     "text": [
      "\u001b[1mBoxplots for the CNT_CB_DENSITY\u001b[0m:\n"
     ]
    },
    {
     "data": {
      "image/png": "[encoded data removed]",
      "text/plain": [
       "<Figure size 432x288 with 1 Axes>"
      ]
     },
     "metadata": {
      "needs_background": "light"
     },
     "output_type": "display_data"
    }
   ],
   "source": [
    "boxplot_columns = [\"Revenue\", \"CNT_EMPLOYEE\", \"Mobile_potential\", \"CNT_CB_DENSITY\"] # variables of interest\n",
    "\n",
    "for column in boxplot_columns: # displaying the boxplots for each variable of interest and for both customers and noncustomers dataset\n",
    "    print(f\"{BOLD}Boxplots for the {column}{END}:\")\n",
    "    plt.boxplot([customer_dt[column], noncustomer_dt[column]])\n",
    "    plt.xticks([1, 2], ['customers dataset', 'noncustomers dataset'])\n",
    "    plt.show()"
   ]
  },
  {
   "cell_type": "markdown",
   "metadata": {
    "id": "P4LaqjUyKLhm"
   },
   "source": [
    "As we observe from the boxplots, some of them present outliers. There are several mechanisms to eliminate outliers. One option is to eliminate the values higher than a statistical value for each numerical variable."
   ]
  },
  {
   "cell_type": "markdown",
   "metadata": {
    "id": "puFRcL_-KLhn"
   },
   "source": [
    "[**EX4**] [**CODE**] Remove the values higher than 5* IQR for each variable: `Revenue`, `CNT_EMPLOYEE`, `Mobile_potential`, `CNT_CB_DENSITY`, `CNT_CB_MOB_DENSITY`and `CNT_CB_FN_DENSITY`. Compare with the boxplot of the previous exercise [**EX3**] and explain the differences."
   ]
  },
  {
   "cell_type": "markdown",
   "metadata": {
    "id": "QT-ULfjoKLhv"
   },
   "source": [
    "On the other hand, before applying any classification algorithm, it is necessary to transform non-numerical variables. The most common transformations are **coding as integer** or **coding as dummies**. Before deciding the mechanism it is important to analyze, for each categorical variable, their number of different values and their frequencies. In case of high number of possible values in comparision with the size of the dataset, **dummy** transformation could generate sparse matrix."
   ]
  },
  {
   "cell_type": "code",
   "execution_count": 45,
   "metadata": {},
   "outputs": [],
   "source": [
    "def remove_outliers(dataframe, interest_cols, factor):\n",
    "\n",
    "    output_df = dataframe.copy() # copying the input dataframe so that we don't modify the original\n",
    "    \n",
    "    for column in interest_cols:\n",
    "        q3 = np.percentile(dataframe[column], 75) \n",
    "        q1 = np.percentile(dataframe[column], 25) \n",
    "        iqr = q3 - q1 # computing iqr, also iqr = iqr(output_df)\n",
    "\n",
    "        lower_bound = q1 - ( factor * iqr ) \n",
    "        upper_bound = q3 + ( factor * iqr )\n",
    "        \n",
    "        output_df = output_df[(output_df[column]>= lower_bound) & (output_df[column]<= upper_bound)] # returining the dataframe which lays inside the iqr \n",
    "    \n",
    "    return output_df"
   ]
  },
  {
   "cell_type": "markdown",
   "metadata": {},
   "source": [
    "For report purposes, we had to calculate the quartiles of Revenue and Mobile_potential"
   ]
  },
  {
   "cell_type": "code",
   "execution_count": 46,
   "metadata": {},
   "outputs": [
    {
     "name": "stdout",
     "output_type": "stream",
     "text": [
      "\u001b[1mCustomer Revenue Q1:\u001b[0m 1047500.0\u001b[1m; Q2:\u001b[0m 2200000.0\u001b[1m; Q3:\u001b[0m 4195000.0\n",
      "\u001b[1mCustomer Mobile potential Q1:\u001b[0m 2090.6967281537\u001b[1m; Q2:\u001b[0m 2401.464692530968\u001b[1m; Q3:\u001b[0m 2826.2351826061667\n",
      "\u001b[1mNoncustomer Revenue Q1:\u001b[0m 902986.0\u001b[1m; Q2:\u001b[0m 1750000.0\u001b[1m; Q3:\u001b[0m 3501123.5\n",
      "\u001b[1mNoncustomer Mobile potential Q1:\u001b[0m 1975.5165190653966\u001b[1m; Q2:\u001b[0m 2277.9727974861535\u001b[1m; Q3:\u001b[0m 2631.926166103982\n"
     ]
    }
   ],
   "source": [
    "cust_rev_q1 = np.percentile(customer_dt[\"Revenue\"], 25)\n",
    "cust_rev_q2 = np.percentile(customer_dt[\"Revenue\"], 50)\n",
    "cust_rev_q3 = np.percentile(customer_dt[\"Revenue\"], 75)\n",
    "\n",
    "cust_mob_pot_q1 = np.percentile(customer_dt[\"Mobile_potential\"], 25)\n",
    "cust_mob_pot_q2 = np.percentile(customer_dt[\"Mobile_potential\"], 50)\n",
    "cust_mob_pot_q3 = np.percentile(customer_dt[\"Mobile_potential\"], 75)\n",
    "\n",
    "noncust_rev_q1 = np.percentile(noncustomer_dt[\"Revenue\"], 25)\n",
    "noncust_rev_q2 = np.percentile(noncustomer_dt[\"Revenue\"], 50)\n",
    "noncust_rev_q3 = np.percentile(noncustomer_dt[\"Revenue\"], 75)\n",
    "\n",
    "noncust_mob_pot_q1 = np.percentile(noncustomer_dt[\"Mobile_potential\"], 25)\n",
    "noncust_mob_pot_q2 = np.percentile(noncustomer_dt[\"Mobile_potential\"], 50)\n",
    "noncust_mob_pot_q3 = np.percentile(noncustomer_dt[\"Mobile_potential\"], 75)\n",
    "\n",
    "print(f'{BOLD}Customer Revenue Q1:{END} { cust_rev_q1 }{BOLD}; Q2:{END} { cust_rev_q2 }{BOLD}; Q3:{END} { cust_rev_q3 }')\n",
    "print(f'{BOLD}Customer Mobile potential Q1:{END} { cust_mob_pot_q1 }{BOLD}; Q2:{END} { cust_mob_pot_q2 }{BOLD}; Q3:{END} { cust_mob_pot_q3 }')\n",
    "\n",
    "print(f'{BOLD}Noncustomer Revenue Q1:{END} { noncust_rev_q1 }{BOLD}; Q2:{END} { noncust_rev_q2 }{BOLD}; Q3:{END} { noncust_rev_q3 }')\n",
    "print(f'{BOLD}Noncustomer Mobile potential Q1:{END} { noncust_mob_pot_q1 }{BOLD}; Q2:{END} { noncust_mob_pot_q2 }{BOLD}; Q3:{END} { noncust_mob_pot_q3 }')"
   ]
  },
  {
   "cell_type": "code",
   "execution_count": 47,
   "metadata": {},
   "outputs": [
    {
     "name": "stdout",
     "output_type": "stream",
     "text": [
      "\u001b[1mThe costumers dataset without outliers looks like:\u001b[0m\n",
      "<class 'pandas.core.frame.DataFrame'>\n",
      "Int64Index: 1015 entries, 11548 to 13321\n",
      "Data columns (total 10 columns):\n",
      " #   Column              Non-Null Count  Dtype  \n",
      "---  ------              --------------  -----  \n",
      " 0   City                1015 non-null   object \n",
      " 1   Customer_Flag       1015 non-null   int64  \n",
      " 2   Revenue             1015 non-null   float64\n",
      " 3   Sector              1015 non-null   float64\n",
      " 4   Legal_Form_Code     1015 non-null   float64\n",
      " 5   CNT_EMPLOYEE        1015 non-null   int64  \n",
      " 6   CNT_CB_DENSITY      1015 non-null   float64\n",
      " 7   CNT_CB_MOB_DENSITY  1015 non-null   float64\n",
      " 8   CNT_CB_FN_DENSITY   1015 non-null   float64\n",
      " 9   Mobile_potential    1015 non-null   float64\n",
      "dtypes: float64(7), int64(2), object(1)\n",
      "memory usage: 87.2+ KB\n",
      "\n",
      "\u001b[1mThe noncostumers dataset without outliers looks like:\u001b[0m\n",
      "<class 'pandas.core.frame.DataFrame'>\n",
      "Int64Index: 5347 entries, 5 to 11546\n",
      "Data columns (total 10 columns):\n",
      " #   Column              Non-Null Count  Dtype  \n",
      "---  ------              --------------  -----  \n",
      " 0   City                5347 non-null   object \n",
      " 1   Customer_Flag       5347 non-null   int64  \n",
      " 2   Revenue             5347 non-null   float64\n",
      " 3   Sector              5347 non-null   float64\n",
      " 4   Legal_Form_Code     5347 non-null   float64\n",
      " 5   CNT_EMPLOYEE        5347 non-null   int64  \n",
      " 6   CNT_CB_DENSITY      5347 non-null   float64\n",
      " 7   CNT_CB_MOB_DENSITY  5347 non-null   float64\n",
      " 8   CNT_CB_FN_DENSITY   5347 non-null   float64\n",
      " 9   Mobile_potential    5347 non-null   float64\n",
      "dtypes: float64(7), int64(2), object(1)\n",
      "memory usage: 459.5+ KB\n"
     ]
    }
   ],
   "source": [
    "interest_cols = [\"Revenue\", \"CNT_EMPLOYEE\", \"Mobile_potential\", \"CNT_CB_DENSITY\", \"CNT_CB_MOB_DENSITY\", \"CNT_CB_FN_DENSITY\"]  # variables of interest\n",
    "factor = 5 \n",
    "\n",
    "# Copying the dataframe so that we don't modify the original\n",
    "customer_dt_no_outliers = customer_dt.copy()\n",
    "noncustomer_dt_no_outliers  = noncustomer_dt.copy()\n",
    "\n",
    "print(f'{BOLD}The costumers dataset without outliers looks like:{END}')\n",
    "customer_dt_no_outliers = remove_outliers(customer_dt_no_outliers, interest_cols, factor)\n",
    "customer_dt_no_outliers.info()\n",
    "\n",
    "print(f'\\n{BOLD}The noncostumers dataset without outliers looks like:{END}')\n",
    "noncustomer_dt_no_outliers = remove_outliers(noncustomer_dt_no_outliers, interest_cols, factor)\n",
    "noncustomer_dt_no_outliers.info()"
   ]
  },
  {
   "cell_type": "code",
   "execution_count": 48,
   "metadata": {},
   "outputs": [
    {
     "name": "stdout",
     "output_type": "stream",
     "text": [
      "\u001b[1mDATAFRAME WITHOUT OUTLIERS:\u001b[0m\n",
      "\u001b[1mBoxplots for the Revenue\u001b[0m:\n"
     ]
    },
    {
     "data": {
      "image/png": "[encoded data removed]",
      "text/plain": [
       "<Figure size 432x288 with 1 Axes>"
      ]
     },
     "metadata": {
      "needs_background": "light"
     },
     "output_type": "display_data"
    },
    {
     "name": "stdout",
     "output_type": "stream",
     "text": [
      "\u001b[1mBoxplots for the CNT_EMPLOYEE\u001b[0m:\n"
     ]
    },
    {
     "data": {
      "image/png": "[encoded data removed]",
      "text/plain": [
       "<Figure size 432x288 with 1 Axes>"
      ]
     },
     "metadata": {
      "needs_background": "light"
     },
     "output_type": "display_data"
    },
    {
     "name": "stdout",
     "output_type": "stream",
     "text": [
      "\u001b[1mBoxplots for the Mobile_potential\u001b[0m:\n"
     ]
    },
    {
     "data": {
      "image/png": "[encoded data removed]",
      "text/plain": [
       "<Figure size 432x288 with 1 Axes>"
      ]
     },
     "metadata": {
      "needs_background": "light"
     },
     "output_type": "display_data"
    },
    {
     "name": "stdout",
     "output_type": "stream",
     "text": [
      "\u001b[1mBoxplots for the CNT_CB_DENSITY\u001b[0m:\n"
     ]
    },
    {
     "data": {
      "image/png": "[encoded data removed]",
      "text/plain": [
       "<Figure size 432x288 with 1 Axes>"
      ]
     },
     "metadata": {
      "needs_background": "light"
     },
     "output_type": "display_data"
    }
   ],
   "source": [
    "print(f\"{BOLD}DATAFRAME WITHOUT OUTLIERS:{END}\")\n",
    "\n",
    "for column in boxplot_columns:\n",
    "    print(f\"{BOLD}Boxplots for the {column}{END}:\")\n",
    "    plt.boxplot([customer_dt_no_outliers[column], noncustomer_dt_no_outliers[column]])\n",
    "    plt.xticks([1, 2], ['customers dataset', 'noncustomers dataset'])\n",
    "    plt.show()\n",
    "    "
   ]
  },
  {
   "cell_type": "markdown",
   "metadata": {
    "id": "TfWf0K_-KLhv"
   },
   "source": [
    "[**EX5**] [**REPORT**] Calculate the ratio of the values of `City` for `customer_dt` and `noncustomer_dt` datasets. Compare the ratio of each category of each dataset."
   ]
  },
  {
   "cell_type": "code",
   "execution_count": 49,
   "metadata": {},
   "outputs": [
    {
     "name": "stdout",
     "output_type": "stream",
     "text": [
      "\u001b[1mCustomer:\u001b[0m\n",
      "München       0.024631\n",
      "Köln          0.021675\n",
      "Berlin        0.016749\n",
      "Chemnitz      0.016749\n",
      "Dresden       0.015764\n",
      "                ...   \n",
      "Bad Abbach    0.000985\n",
      "Lichtenau     0.000985\n",
      "Ottobrunn     0.000985\n",
      "Moosburg      0.000985\n",
      "Wedemark      0.000985\n",
      "Name: City, Length: 578, dtype: float64\n",
      "\n",
      "\u001b[1mNoncustomer:\u001b[0m\n",
      "München                  0.020759\n",
      "Köln                     0.016084\n",
      "Stuttgart                0.010099\n",
      "Bremen                   0.009538\n",
      "Dortmund                 0.009351\n",
      "                           ...   \n",
      "Rechtmehring             0.000187\n",
      "Heilbad Heiligenstadt    0.000187\n",
      "Edermünde                0.000187\n",
      "Knüllwald                0.000187\n",
      "Solms                    0.000187\n",
      "Name: City, Length: 2215, dtype: float64\n"
     ]
    }
   ],
   "source": [
    "# We computed the ratio using value_counts with the normalize mode\n",
    "# We sorted by ascending order for viewing purposes\n",
    "ratio_customer_revenue = customer_dt_no_outliers['City'].value_counts(normalize = True, sort = True)\n",
    "ratio_noncustomer_revenue = noncustomer_dt_no_outliers['City'].value_counts(normalize = True, sort = True)\n",
    "\n",
    "print(f\"{BOLD}Customer:{END}\\n{ratio_customer_revenue}\\n\\n{BOLD}Noncustomer:{END}\\n{ratio_noncustomer_revenue}\")"
   ]
  },
  {
   "cell_type": "code",
   "execution_count": 50,
   "metadata": {},
   "outputs": [
    {
     "name": "stdout",
     "output_type": "stream",
     "text": [
      "\u001b[1mCOLUMN: Customer_Flag\u001b[0m\n",
      "\u001b[1mCustomer:\u001b[0m\n",
      "1    1.0\n",
      "Name: Customer_Flag, dtype: float64\n",
      "\n",
      "\u001b[1mNoncustomer:\u001b[0m\n",
      "0    1.0\n",
      "Name: Customer_Flag, dtype: float64\n",
      "\n",
      "\n",
      "\u001b[1mCOLUMN: Revenue\u001b[0m\n",
      "\u001b[1mCustomer:\u001b[0m\n",
      "1000000.0    0.021675\n",
      "3000000.0    0.020690\n",
      "2000000.0    0.020690\n",
      "2200000.0    0.015764\n",
      "1200000.0    0.015764\n",
      "               ...   \n",
      "3250050.0    0.000985\n",
      "415000.0     0.000985\n",
      "3129196.0    0.000985\n",
      "730000.0     0.000985\n",
      "1988000.0    0.000985\n",
      "Name: Revenue, Length: 508, dtype: float64\n",
      "\n",
      "\u001b[1mNoncustomer:\u001b[0m\n",
      "1000000.0    0.033290\n",
      "1500000.0    0.032355\n",
      "2000000.0    0.023565\n",
      "1200000.0    0.020946\n",
      "2500000.0    0.016084\n",
      "               ...   \n",
      "1250.0       0.000187\n",
      "33951.0      0.000187\n",
      "2541222.0    0.000187\n",
      "2042995.0    0.000187\n",
      "4593054.0    0.000187\n",
      "Name: Revenue, Length: 1791, dtype: float64\n",
      "\n",
      "\n",
      "\u001b[1mCOLUMN: Sector\u001b[0m\n",
      "\u001b[1mCustomer:\u001b[0m\n",
      "40.0    0.154680\n",
      "42.0    0.087685\n",
      "47.0    0.054187\n",
      "44.0    0.049261\n",
      "63.0    0.046305\n",
      "          ...   \n",
      "7.0     0.000985\n",
      "46.0    0.000985\n",
      "10.0    0.000985\n",
      "52.0    0.000985\n",
      "37.0    0.000985\n",
      "Name: Sector, Length: 71, dtype: float64\n",
      "\n",
      "\u001b[1mNoncustomer:\u001b[0m\n",
      "40.0    0.125117\n",
      "42.0    0.086404\n",
      "43.0    0.085843\n",
      "24.0    0.048812\n",
      "41.0    0.038900\n",
      "          ...   \n",
      "46.0    0.000374\n",
      "14.0    0.000374\n",
      "37.0    0.000374\n",
      "88.0    0.000187\n",
      "8.0     0.000187\n",
      "Name: Sector, Length: 81, dtype: float64\n",
      "\n",
      "\n",
      "\u001b[1mCOLUMN: Legal_Form_Code\u001b[0m\n",
      "\u001b[1mCustomer:\u001b[0m\n",
      "14.0    0.666995\n",
      "16.0    0.113300\n",
      "4.0     0.096552\n",
      "20.0    0.031527\n",
      "31.0    0.020690\n",
      "3.0     0.015764\n",
      "13.0    0.013793\n",
      "24.0    0.012808\n",
      "11.0    0.006897\n",
      "46.0    0.006897\n",
      "18.0    0.004926\n",
      "15.0    0.001970\n",
      "26.0    0.001970\n",
      "48.0    0.000985\n",
      "28.0    0.000985\n",
      "22.0    0.000985\n",
      "8.0     0.000985\n",
      "17.0    0.000985\n",
      "30.0    0.000985\n",
      "Name: Legal_Form_Code, dtype: float64\n",
      "\n",
      "\u001b[1mNoncustomer:\u001b[0m\n",
      "14.0    0.532635\n",
      "4.0     0.191696\n",
      "16.0    0.112212\n",
      "31.0    0.049561\n",
      "13.0    0.034412\n",
      "20.0    0.028240\n",
      "3.0     0.010099\n",
      "18.0    0.009538\n",
      "24.0    0.008416\n",
      "11.0    0.008042\n",
      "46.0    0.004488\n",
      "22.0    0.003366\n",
      "15.0    0.002618\n",
      "30.0    0.001122\n",
      "28.0    0.000748\n",
      "26.0    0.000748\n",
      "50.0    0.000748\n",
      "29.0    0.000561\n",
      "49.0    0.000374\n",
      "8.0     0.000187\n",
      "9.0     0.000187\n",
      "Name: Legal_Form_Code, dtype: float64\n",
      "\n",
      "\n",
      "\u001b[1mCOLUMN: CNT_EMPLOYEE\u001b[0m\n",
      "\u001b[1mCustomer:\u001b[0m\n",
      "14    0.055172\n",
      "15    0.051232\n",
      "18    0.047291\n",
      "13    0.044335\n",
      "20    0.044335\n",
      "19    0.043350\n",
      "22    0.041379\n",
      "17    0.040394\n",
      "16    0.039409\n",
      "23    0.035468\n",
      "21    0.035468\n",
      "25    0.029557\n",
      "26    0.028571\n",
      "33    0.026601\n",
      "27    0.023645\n",
      "12    0.021675\n",
      "29    0.021675\n",
      "45    0.020690\n",
      "24    0.020690\n",
      "31    0.020690\n",
      "30    0.020690\n",
      "39    0.019704\n",
      "11    0.019704\n",
      "28    0.019704\n",
      "34    0.018719\n",
      "41    0.017734\n",
      "35    0.016749\n",
      "32    0.016749\n",
      "40    0.014778\n",
      "50    0.013793\n",
      "36    0.013793\n",
      "38    0.012808\n",
      "42    0.012808\n",
      "46    0.011823\n",
      "43    0.010837\n",
      "44    0.009852\n",
      "37    0.009852\n",
      "10    0.007882\n",
      "51    0.007882\n",
      "49    0.006897\n",
      "48    0.006897\n",
      "47    0.004926\n",
      "52    0.004926\n",
      "53    0.003941\n",
      "54    0.002956\n",
      "55    0.001970\n",
      "Name: CNT_EMPLOYEE, dtype: float64\n",
      "\n",
      "\u001b[1mNoncustomer:\u001b[0m\n",
      "14    0.070320\n",
      "15    0.069759\n",
      "16    0.060782\n",
      "13    0.058350\n",
      "17    0.054049\n",
      "18    0.047503\n",
      "19    0.043202\n",
      "12    0.042080\n",
      "21    0.038900\n",
      "20    0.037404\n",
      "11    0.032355\n",
      "22    0.030671\n",
      "23    0.027305\n",
      "24    0.025996\n",
      "25    0.025622\n",
      "27    0.025061\n",
      "26    0.024874\n",
      "30    0.020946\n",
      "28    0.020759\n",
      "29    0.018702\n",
      "34    0.016084\n",
      "31    0.014962\n",
      "35    0.013465\n",
      "38    0.012530\n",
      "10    0.012343\n",
      "37    0.011969\n",
      "33    0.011034\n",
      "36    0.010099\n",
      "32    0.010099\n",
      "39    0.009538\n",
      "45    0.009351\n",
      "48    0.009351\n",
      "40    0.008603\n",
      "44    0.008416\n",
      "41    0.008416\n",
      "43    0.007855\n",
      "46    0.007107\n",
      "49    0.006172\n",
      "42    0.006172\n",
      "51    0.005985\n",
      "52    0.005798\n",
      "50    0.005611\n",
      "53    0.005237\n",
      "47    0.004301\n",
      "54    0.003927\n",
      "55    0.000935\n",
      "Name: CNT_EMPLOYEE, dtype: float64\n",
      "\n",
      "\n",
      "\u001b[1mCOLUMN: CNT_CB_DENSITY\u001b[0m\n",
      "\u001b[1mCustomer:\u001b[0m\n",
      "70.0      0.009852\n",
      "27.0      0.008867\n",
      "51.0      0.008867\n",
      "24.0      0.007882\n",
      "31.0      0.007882\n",
      "            ...   \n",
      "1036.0    0.000985\n",
      "962.0     0.000985\n",
      "381.0     0.000985\n",
      "1276.0    0.000985\n",
      "699.0     0.000985\n",
      "Name: CNT_CB_DENSITY, Length: 499, dtype: float64\n",
      "\n",
      "\u001b[1mNoncustomer:\u001b[0m\n",
      "15.0      0.011034\n",
      "9.0       0.010847\n",
      "20.0      0.010099\n",
      "18.0      0.009538\n",
      "10.0      0.009351\n",
      "            ...   \n",
      "987.0     0.000187\n",
      "1701.0    0.000187\n",
      "1560.0    0.000187\n",
      "920.0     0.000187\n",
      "846.0     0.000187\n",
      "Name: CNT_CB_DENSITY, Length: 975, dtype: float64\n",
      "\n",
      "\n",
      "\u001b[1mCOLUMN: CNT_CB_MOB_DENSITY\u001b[0m\n",
      "\u001b[1mCustomer:\u001b[0m\n",
      "69.0      0.009852\n",
      "22.0      0.009852\n",
      "34.0      0.006897\n",
      "51.0      0.006897\n",
      "24.0      0.006897\n",
      "            ...   \n",
      "1239.0    0.000985\n",
      "703.0     0.000985\n",
      "55.0      0.000985\n",
      "204.0     0.000985\n",
      "694.0     0.000985\n",
      "Name: CNT_CB_MOB_DENSITY, Length: 486, dtype: float64\n",
      "\n",
      "\u001b[1mNoncustomer:\u001b[0m\n",
      "13.0      0.010660\n",
      "15.0      0.010473\n",
      "20.0      0.010286\n",
      "9.0       0.010286\n",
      "23.0      0.009538\n",
      "            ...   \n",
      "613.0     0.000187\n",
      "1010.0    0.000187\n",
      "1169.0    0.000187\n",
      "1078.0    0.000187\n",
      "1295.0    0.000187\n",
      "Name: CNT_CB_MOB_DENSITY, Length: 947, dtype: float64\n",
      "\n",
      "\n",
      "\u001b[1mCOLUMN: CNT_CB_FN_DENSITY\u001b[0m\n",
      "\u001b[1mCustomer:\u001b[0m\n",
      "1.0      0.077833\n",
      "2.0      0.074877\n",
      "0.0      0.064039\n",
      "4.0      0.057143\n",
      "3.0      0.053202\n",
      "           ...   \n",
      "139.0    0.000985\n",
      "97.0     0.000985\n",
      "154.0    0.000985\n",
      "81.0     0.000985\n",
      "84.0     0.000985\n",
      "Name: CNT_CB_FN_DENSITY, Length: 98, dtype: float64\n",
      "\n",
      "\u001b[1mNoncustomer:\u001b[0m\n",
      "0.0      0.134468\n",
      "1.0      0.119319\n",
      "2.0      0.089583\n",
      "3.0      0.066953\n",
      "4.0      0.056293\n",
      "           ...   \n",
      "106.0    0.000187\n",
      "100.0    0.000187\n",
      "84.0     0.000187\n",
      "99.0     0.000187\n",
      "96.0     0.000187\n",
      "Name: CNT_CB_FN_DENSITY, Length: 125, dtype: float64\n",
      "\n",
      "\n",
      "\u001b[1mCOLUMN: Mobile_potential\u001b[0m\n",
      "\u001b[1mCustomer:\u001b[0m\n",
      "1846.104451    0.000985\n",
      "1909.383261    0.000985\n",
      "2172.383919    0.000985\n",
      "1464.108608    0.000985\n",
      "3207.948766    0.000985\n",
      "                 ...   \n",
      "2015.040717    0.000985\n",
      "2787.507422    0.000985\n",
      "1642.148917    0.000985\n",
      "3906.032663    0.000985\n",
      "2217.829016    0.000985\n",
      "Name: Mobile_potential, Length: 1015, dtype: float64\n",
      "\n",
      "\u001b[1mNoncustomer:\u001b[0m\n",
      "3103.670976    0.000187\n",
      "2214.531073    0.000187\n",
      "3399.901685    0.000187\n",
      "1854.001137    0.000187\n",
      "1680.869247    0.000187\n",
      "                 ...   \n",
      "2419.116420    0.000187\n",
      "2492.445455    0.000187\n",
      "3239.072000    0.000187\n",
      "3403.328193    0.000187\n",
      "2126.540797    0.000187\n",
      "Name: Mobile_potential, Length: 5347, dtype: float64\n",
      "\n",
      "\n"
     ]
    }
   ],
   "source": [
    "# Computing the ratio for the other variables of the datasets\n",
    "for col in customer_dt_no_outliers:\n",
    "    if col != \"City\":\n",
    "        print(f\"{BOLD}COLUMN: {col}{END}\")\n",
    "        ratio_customer_ = customer_dt_no_outliers[col].value_counts(normalize = True, sort = True)\n",
    "        ratio_noncustomer_ = noncustomer_dt_no_outliers[col].value_counts(normalize = True, sort = True)\n",
    "\n",
    "        print(f\"{BOLD}Customer:{END}\\n{ratio_customer_}\\n\\n{BOLD}Noncustomer:{END}\\n{ratio_noncustomer_}\\n\\n\")"
   ]
  },
  {
   "cell_type": "markdown",
   "metadata": {
    "id": "0bCyWWPTKLhy"
   },
   "source": [
    "As the number of distinct values is high, we will apply a **integer** encoding through the LabelEncoder() transformation as follows:"
   ]
  },
  {
   "cell_type": "code",
   "execution_count": 51,
   "metadata": {
    "id": "d3cN00r-KLhz"
   },
   "outputs": [
    {
     "name": "stderr",
     "output_type": "stream",
     "text": [
      "C:\\Users\\Usuari\\AppData\\Local\\Temp\\ipykernel_22332\\2200363049.py:1: FutureWarning: The series.append method is deprecated and will be removed from pandas in a future version. Use pandas.concat instead.\n",
      "  City_Categ = customer_dt_no_outliers['City'].append(noncustomer_dt_no_outliers['City'])\n"
     ]
    },
    {
     "data": {
      "text/plain": [
       "11548         Haar\n",
       "11551      Greding\n",
       "11553        Dörth\n",
       "11554    Frankfurt\n",
       "11565    Benningen\n",
       "Name: City, dtype: object"
      ]
     },
     "execution_count": 51,
     "metadata": {},
     "output_type": "execute_result"
    }
   ],
   "source": [
    "City_Categ = customer_dt_no_outliers['City'].append(noncustomer_dt_no_outliers['City'])\n",
    "City_Categ.head()"
   ]
  },
  {
   "cell_type": "code",
   "execution_count": 52,
   "metadata": {
    "id": "9fKR-_uXKLh2"
   },
   "outputs": [],
   "source": [
    "city_encoder = LabelEncoder()\n",
    "city_encoder.fit(City_Categ.values)\n",
    "\n",
    "# Applying city encoder transformation\n",
    "customer_dt_no_outliers['City_coded'] = city_encoder.transform(customer_dt_no_outliers['City'].values)\n",
    "noncustomer_dt_no_outliers['City_coded'] = city_encoder.transform(noncustomer_dt_no_outliers['City'].values)\n",
    "\n",
    "# Erasing the city column as City_coded has already been appended\n",
    "no_city_cust = customer_dt_no_outliers.drop(\"City\", axis = 1)\n",
    "no_city_noncust = noncustomer_dt_no_outliers.drop(\"City\", axis = 1)"
   ]
  },
  {
   "cell_type": "code",
   "execution_count": 53,
   "metadata": {},
   "outputs": [
    {
     "data": {
      "text/plain": [
       "<bound method NDFrame.head of        Customer_Flag     Revenue  Sector  Legal_Form_Code  CNT_EMPLOYEE  \\\n",
       "11548              1   4000000.0    42.0             14.0            17   \n",
       "11551              1  11780000.0    74.0              4.0            53   \n",
       "11553              1   2050000.0    43.0             14.0            16   \n",
       "11554              1    853500.0    63.0             14.0            14   \n",
       "11565              1  10680000.0    74.0              4.0            17   \n",
       "...              ...         ...     ...              ...           ...   \n",
       "13306              1   3535693.0    71.0             14.0            20   \n",
       "13307              1   1462624.0    40.0             14.0            15   \n",
       "13312              1   1200000.0    55.0             14.0            13   \n",
       "13314              1   1830000.0    27.0             14.0            26   \n",
       "13321              1   1988000.0    24.0             14.0            19   \n",
       "\n",
       "       CNT_CB_DENSITY  CNT_CB_MOB_DENSITY  CNT_CB_FN_DENSITY  \\\n",
       "11548           891.0               867.0               62.0   \n",
       "11551             7.0                 7.0                0.0   \n",
       "11553            30.0                30.0                1.0   \n",
       "11554           870.0               842.0               77.0   \n",
       "11565           319.0               317.0               10.0   \n",
       "...               ...                 ...                ...   \n",
       "13306           640.0               637.0               19.0   \n",
       "13307           476.0               470.0               20.0   \n",
       "13312           699.0               694.0               37.0   \n",
       "13314            44.0                43.0                4.0   \n",
       "13321            61.0                60.0                1.0   \n",
       "\n",
       "       Mobile_potential  City_coded  \n",
       "11548       1846.104451         814  \n",
       "11551       2083.941040         749  \n",
       "11553       2209.827333         460  \n",
       "11554       2401.464693         614  \n",
       "11565       2579.765989         218  \n",
       "...                 ...         ...  \n",
       "13306       2207.557817        1232  \n",
       "13307       2849.863444        1203  \n",
       "13312       2027.583114         557  \n",
       "13314       2048.074227         808  \n",
       "13321       2217.829016        2233  \n",
       "\n",
       "[1015 rows x 10 columns]>"
      ]
     },
     "execution_count": 53,
     "metadata": {},
     "output_type": "execute_result"
    }
   ],
   "source": [
    "no_city_cust.head"
   ]
  },
  {
   "cell_type": "code",
   "execution_count": 54,
   "metadata": {},
   "outputs": [
    {
     "data": {
      "text/plain": [
       "<bound method NDFrame.head of        Customer_Flag    Revenue  Sector  Legal_Form_Code  CNT_EMPLOYEE  \\\n",
       "5                  0  8500000.0    59.0             14.0            27   \n",
       "6                  0  2100000.0    73.0             20.0            37   \n",
       "8                  0   630000.0    56.0             14.0            13   \n",
       "13                 0  8000000.0    47.0              4.0            48   \n",
       "19                 0  5160000.0    74.0              4.0            13   \n",
       "...              ...        ...     ...              ...           ...   \n",
       "11542              0  6391606.0    60.0             20.0            24   \n",
       "11543              0   305000.0    60.0              4.0            13   \n",
       "11544              0  4200000.0    23.0             14.0            54   \n",
       "11545              0  1336495.0    60.0             16.0            20   \n",
       "11546              0  4593054.0    64.0             14.0            44   \n",
       "\n",
       "       CNT_CB_DENSITY  CNT_CB_MOB_DENSITY  CNT_CB_FN_DENSITY  \\\n",
       "5               869.0               857.0               59.0   \n",
       "6               209.0               206.0                9.0   \n",
       "8               749.0               727.0               51.0   \n",
       "13              245.0               239.0               15.0   \n",
       "19                9.0                 9.0                0.0   \n",
       "...               ...                 ...                ...   \n",
       "11542            57.0                57.0                0.0   \n",
       "11543             9.0                 9.0                0.0   \n",
       "11544            62.0                62.0                6.0   \n",
       "11545            63.0                61.0                2.0   \n",
       "11546            90.0                90.0                5.0   \n",
       "\n",
       "       Mobile_potential  City_coded  \n",
       "5           3103.670976         466  \n",
       "6           2108.833841         826  \n",
       "8           2381.708430        2046  \n",
       "13          3179.085811        1081  \n",
       "19          1897.730166        1002  \n",
       "...                 ...         ...  \n",
       "11542       2102.700888         761  \n",
       "11543       1548.889725        1936  \n",
       "11544       2388.407248         618  \n",
       "11545       2657.602909        1983  \n",
       "11546       2126.540797        1021  \n",
       "\n",
       "[5347 rows x 10 columns]>"
      ]
     },
     "execution_count": 54,
     "metadata": {},
     "output_type": "execute_result"
    }
   ],
   "source": [
    "no_city_noncust.head"
   ]
  },
  {
   "cell_type": "markdown",
   "metadata": {
    "id": "i5BjRBWgKLh7"
   },
   "source": [
    "[**EX5**] [**CODE**] Finally before entering in the training stage,  let's create a `final_dataset` that is the result of stacking `customer_dt`and `noncustomer_dt`considering the following variables: `City_coded`, `Revenue`, `Sector`, `Legal_Form_Code`, `CNT_EMPLOYEE`, `CNT_CB_DENSITY`, `CNT_CB_MOB_DENSITY`, `CNT_CB_FN_DENSITY`and `Mobile_potential`. The 'final_dataset' should include a new variable, `Target`, that takes value **0** for noncustomers and **1** for customers registers. The `Target` will distiguish the two classes to train the model."
   ]
  },
  {
   "cell_type": "markdown",
   "metadata": {
    "id": "yKmKSuHlKLh-"
   },
   "source": [
    "The output should look like this:"
   ]
  },
  {
   "cell_type": "code",
   "execution_count": 55,
   "metadata": {
    "id": "m4o5gxjCKLh_",
    "outputId": "96f50e93-e385-4694-f855-b6fc5ef2e15d"
   },
   "outputs": [
    {
     "name": "stdout",
     "output_type": "stream",
     "text": [
      "<class 'pandas.core.frame.DataFrame'>\n",
      "Int64Index: 6362 entries, 11548 to 11546\n",
      "Data columns (total 10 columns):\n",
      " #   Column              Non-Null Count  Dtype  \n",
      "---  ------              --------------  -----  \n",
      " 0   Target              6362 non-null   int64  \n",
      " 1   Revenue             6362 non-null   float64\n",
      " 2   Sector              6362 non-null   float64\n",
      " 3   Legal_Form_Code     6362 non-null   float64\n",
      " 4   CNT_EMPLOYEE        6362 non-null   int64  \n",
      " 5   CNT_CB_DENSITY      6362 non-null   float64\n",
      " 6   CNT_CB_MOB_DENSITY  6362 non-null   float64\n",
      " 7   CNT_CB_FN_DENSITY   6362 non-null   float64\n",
      " 8   Mobile_potential    6362 non-null   float64\n",
      " 9   City_coded          6362 non-null   int32  \n",
      "dtypes: float64(7), int32(1), int64(2)\n",
      "memory usage: 521.9 KB\n"
     ]
    },
    {
     "name": "stderr",
     "output_type": "stream",
     "text": [
      "C:\\Users\\Usuari\\AppData\\Local\\Temp\\ipykernel_22332\\2491393095.py:5: FutureWarning: The frame.append method is deprecated and will be removed from pandas in a future version. Use pandas.concat instead.\n",
      "  final_dataset_no_outliers = no_city_cust.append(no_city_noncust) # Appending noncustomers dataset to customers one\n"
     ]
    }
   ],
   "source": [
    "# Adding the new variable\n",
    "no_city_cust.rename(columns = {'Customer_Flag':'Target'}, inplace = True)\n",
    "no_city_noncust.rename(columns = {'Customer_Flag':'Target'}, inplace = True)\n",
    "\n",
    "final_dataset_no_outliers = no_city_cust.append(no_city_noncust) # Appending noncustomers dataset to customers one\n",
    "final_dataset_no_outliers.info()"
   ]
  },
  {
   "cell_type": "code",
   "execution_count": 56,
   "metadata": {},
   "outputs": [
    {
     "data": {
      "text/html": [
       "<div>\n",
       "<style scoped>\n",
       "    .dataframe tbody tr th:only-of-type {\n",
       "        vertical-align: middle;\n",
       "    }\n",
       "\n",
       "    .dataframe tbody tr th {\n",
       "        vertical-align: top;\n",
       "    }\n",
       "\n",
       "    .dataframe thead th {\n",
       "        text-align: right;\n",
       "    }\n",
       "</style>\n",
       "<table border=\"1\" class=\"dataframe\">\n",
       "  <thead>\n",
       "    <tr style=\"text-align: right;\">\n",
       "      <th></th>\n",
       "      <th>Target</th>\n",
       "      <th>Revenue</th>\n",
       "      <th>Sector</th>\n",
       "      <th>Legal_Form_Code</th>\n",
       "      <th>CNT_EMPLOYEE</th>\n",
       "      <th>CNT_CB_DENSITY</th>\n",
       "      <th>CNT_CB_MOB_DENSITY</th>\n",
       "      <th>CNT_CB_FN_DENSITY</th>\n",
       "      <th>Mobile_potential</th>\n",
       "      <th>City_coded</th>\n",
       "    </tr>\n",
       "  </thead>\n",
       "  <tbody>\n",
       "    <tr>\n",
       "      <th>11548</th>\n",
       "      <td>1</td>\n",
       "      <td>4000000.0</td>\n",
       "      <td>42.0</td>\n",
       "      <td>14.0</td>\n",
       "      <td>17</td>\n",
       "      <td>891.0</td>\n",
       "      <td>867.0</td>\n",
       "      <td>62.0</td>\n",
       "      <td>1846.104451</td>\n",
       "      <td>814</td>\n",
       "    </tr>\n",
       "    <tr>\n",
       "      <th>11551</th>\n",
       "      <td>1</td>\n",
       "      <td>11780000.0</td>\n",
       "      <td>74.0</td>\n",
       "      <td>4.0</td>\n",
       "      <td>53</td>\n",
       "      <td>7.0</td>\n",
       "      <td>7.0</td>\n",
       "      <td>0.0</td>\n",
       "      <td>2083.941040</td>\n",
       "      <td>749</td>\n",
       "    </tr>\n",
       "    <tr>\n",
       "      <th>11553</th>\n",
       "      <td>1</td>\n",
       "      <td>2050000.0</td>\n",
       "      <td>43.0</td>\n",
       "      <td>14.0</td>\n",
       "      <td>16</td>\n",
       "      <td>30.0</td>\n",
       "      <td>30.0</td>\n",
       "      <td>1.0</td>\n",
       "      <td>2209.827333</td>\n",
       "      <td>460</td>\n",
       "    </tr>\n",
       "    <tr>\n",
       "      <th>11554</th>\n",
       "      <td>1</td>\n",
       "      <td>853500.0</td>\n",
       "      <td>63.0</td>\n",
       "      <td>14.0</td>\n",
       "      <td>14</td>\n",
       "      <td>870.0</td>\n",
       "      <td>842.0</td>\n",
       "      <td>77.0</td>\n",
       "      <td>2401.464693</td>\n",
       "      <td>614</td>\n",
       "    </tr>\n",
       "    <tr>\n",
       "      <th>11565</th>\n",
       "      <td>1</td>\n",
       "      <td>10680000.0</td>\n",
       "      <td>74.0</td>\n",
       "      <td>4.0</td>\n",
       "      <td>17</td>\n",
       "      <td>319.0</td>\n",
       "      <td>317.0</td>\n",
       "      <td>10.0</td>\n",
       "      <td>2579.765989</td>\n",
       "      <td>218</td>\n",
       "    </tr>\n",
       "  </tbody>\n",
       "</table>\n",
       "</div>"
      ],
      "text/plain": [
       "       Target     Revenue  Sector  Legal_Form_Code  CNT_EMPLOYEE  \\\n",
       "11548       1   4000000.0    42.0             14.0            17   \n",
       "11551       1  11780000.0    74.0              4.0            53   \n",
       "11553       1   2050000.0    43.0             14.0            16   \n",
       "11554       1    853500.0    63.0             14.0            14   \n",
       "11565       1  10680000.0    74.0              4.0            17   \n",
       "\n",
       "       CNT_CB_DENSITY  CNT_CB_MOB_DENSITY  CNT_CB_FN_DENSITY  \\\n",
       "11548           891.0               867.0               62.0   \n",
       "11551             7.0                 7.0                0.0   \n",
       "11553            30.0                30.0                1.0   \n",
       "11554           870.0               842.0               77.0   \n",
       "11565           319.0               317.0               10.0   \n",
       "\n",
       "       Mobile_potential  City_coded  \n",
       "11548       1846.104451         814  \n",
       "11551       2083.941040         749  \n",
       "11553       2209.827333         460  \n",
       "11554       2401.464693         614  \n",
       "11565       2579.765989         218  "
      ]
     },
     "execution_count": 56,
     "metadata": {},
     "output_type": "execute_result"
    }
   ],
   "source": [
    "final_dataset_no_outliers.head()"
   ]
  },
  {
   "cell_type": "code",
   "execution_count": 57,
   "metadata": {
    "id": "zcWcoMGbKLiB",
    "outputId": "f6dba835-696b-42eb-f362-42d8143ca31d"
   },
   "outputs": [
    {
     "data": {
      "text/html": [
       "<div>\n",
       "<style scoped>\n",
       "    .dataframe tbody tr th:only-of-type {\n",
       "        vertical-align: middle;\n",
       "    }\n",
       "\n",
       "    .dataframe tbody tr th {\n",
       "        vertical-align: top;\n",
       "    }\n",
       "\n",
       "    .dataframe thead th {\n",
       "        text-align: right;\n",
       "    }\n",
       "</style>\n",
       "<table border=\"1\" class=\"dataframe\">\n",
       "  <thead>\n",
       "    <tr style=\"text-align: right;\">\n",
       "      <th></th>\n",
       "      <th>Target</th>\n",
       "      <th>Revenue</th>\n",
       "      <th>Sector</th>\n",
       "      <th>Legal_Form_Code</th>\n",
       "      <th>CNT_EMPLOYEE</th>\n",
       "      <th>CNT_CB_DENSITY</th>\n",
       "      <th>CNT_CB_MOB_DENSITY</th>\n",
       "      <th>CNT_CB_FN_DENSITY</th>\n",
       "      <th>Mobile_potential</th>\n",
       "      <th>City_coded</th>\n",
       "    </tr>\n",
       "  </thead>\n",
       "  <tbody>\n",
       "    <tr>\n",
       "      <th>11542</th>\n",
       "      <td>0</td>\n",
       "      <td>6391606.0</td>\n",
       "      <td>60.0</td>\n",
       "      <td>20.0</td>\n",
       "      <td>24</td>\n",
       "      <td>57.0</td>\n",
       "      <td>57.0</td>\n",
       "      <td>0.0</td>\n",
       "      <td>2102.700888</td>\n",
       "      <td>761</td>\n",
       "    </tr>\n",
       "    <tr>\n",
       "      <th>11543</th>\n",
       "      <td>0</td>\n",
       "      <td>305000.0</td>\n",
       "      <td>60.0</td>\n",
       "      <td>4.0</td>\n",
       "      <td>13</td>\n",
       "      <td>9.0</td>\n",
       "      <td>9.0</td>\n",
       "      <td>0.0</td>\n",
       "      <td>1548.889725</td>\n",
       "      <td>1936</td>\n",
       "    </tr>\n",
       "    <tr>\n",
       "      <th>11544</th>\n",
       "      <td>0</td>\n",
       "      <td>4200000.0</td>\n",
       "      <td>23.0</td>\n",
       "      <td>14.0</td>\n",
       "      <td>54</td>\n",
       "      <td>62.0</td>\n",
       "      <td>62.0</td>\n",
       "      <td>6.0</td>\n",
       "      <td>2388.407248</td>\n",
       "      <td>618</td>\n",
       "    </tr>\n",
       "    <tr>\n",
       "      <th>11545</th>\n",
       "      <td>0</td>\n",
       "      <td>1336495.0</td>\n",
       "      <td>60.0</td>\n",
       "      <td>16.0</td>\n",
       "      <td>20</td>\n",
       "      <td>63.0</td>\n",
       "      <td>61.0</td>\n",
       "      <td>2.0</td>\n",
       "      <td>2657.602909</td>\n",
       "      <td>1983</td>\n",
       "    </tr>\n",
       "    <tr>\n",
       "      <th>11546</th>\n",
       "      <td>0</td>\n",
       "      <td>4593054.0</td>\n",
       "      <td>64.0</td>\n",
       "      <td>14.0</td>\n",
       "      <td>44</td>\n",
       "      <td>90.0</td>\n",
       "      <td>90.0</td>\n",
       "      <td>5.0</td>\n",
       "      <td>2126.540797</td>\n",
       "      <td>1021</td>\n",
       "    </tr>\n",
       "  </tbody>\n",
       "</table>\n",
       "</div>"
      ],
      "text/plain": [
       "       Target    Revenue  Sector  Legal_Form_Code  CNT_EMPLOYEE  \\\n",
       "11542       0  6391606.0    60.0             20.0            24   \n",
       "11543       0   305000.0    60.0              4.0            13   \n",
       "11544       0  4200000.0    23.0             14.0            54   \n",
       "11545       0  1336495.0    60.0             16.0            20   \n",
       "11546       0  4593054.0    64.0             14.0            44   \n",
       "\n",
       "       CNT_CB_DENSITY  CNT_CB_MOB_DENSITY  CNT_CB_FN_DENSITY  \\\n",
       "11542            57.0                57.0                0.0   \n",
       "11543             9.0                 9.0                0.0   \n",
       "11544            62.0                62.0                6.0   \n",
       "11545            63.0                61.0                2.0   \n",
       "11546            90.0                90.0                5.0   \n",
       "\n",
       "       Mobile_potential  City_coded  \n",
       "11542       2102.700888         761  \n",
       "11543       1548.889725        1936  \n",
       "11544       2388.407248         618  \n",
       "11545       2657.602909        1983  \n",
       "11546       2126.540797        1021  "
      ]
     },
     "execution_count": 57,
     "metadata": {},
     "output_type": "execute_result"
    }
   ],
   "source": [
    "final_dataset_no_outliers.tail()"
   ]
  },
  {
   "cell_type": "markdown",
   "metadata": {
    "id": "riT4OdRHKLiD"
   },
   "source": [
    "To measure the quality of our classifiers, it is necessary to train and test the models with different datasets. For this objective we will use [train_test_split](https://scikit-learn.org/stable/modules/generated/sklearn.model_selection.train_test_split.html) function to generate 4 new datasets: 2 for training and 2 for test: \n",
    "- `X_train`: contains all variables except `Target` for the 80% of `final_dataset`,\n",
    "- `y_train`: contains `Target`variables for the 80% of `final_dataset`, \n",
    "- `X_test`: contains all variables except `Target` for the 20% of `final_dataset`,\n",
    "- `y_test`: contains `Target`variables for the 20% of `final_dataset`."
   ]
  },
  {
   "cell_type": "code",
   "execution_count": 65,
   "metadata": {},
   "outputs": [],
   "source": [
    "no_targ_final = final_dataset_no_outliers.drop(\"Target\", axis = 1) # dataset without target for X variables\n",
    "X_train, X_test, y_train, y_test = train_test_split (no_targ_final, final_dataset_no_outliers[\"Target\"], test_size=0.2, random_state=42) "
   ]
  },
  {
   "cell_type": "markdown",
   "metadata": {
    "id": "n-pLvA3EKLiJ"
   },
   "source": [
    "[**EX6**] [**REPORT**] Calculate the lenght of `X_train` and `X_test` datasets. Is it aligned with the `test_size`value selected in the split?"
   ]
  },
  {
   "cell_type": "code",
   "execution_count": 66,
   "metadata": {},
   "outputs": [
    {
     "name": "stdout",
     "output_type": "stream",
     "text": [
      "\u001b[1mThe datasets have the same size, or a similar one (+-1)\u001b[0m\n",
      "\n",
      "\u001b[1mThe sum of the two splitted datasets is:\u001b[0m 5089\u001b[1m + \u001b[0m1273\u001b[1m = \u001b[0m6362\n",
      "\u001b[1mThe size of the final dataset is:\u001b[0m 6362\n",
      "\n",
      "\u001b[1mThe two datasets have the same size!\u001b[0m\n"
     ]
    }
   ],
   "source": [
    "# Computing lengths\n",
    "X_train_size = len(X_train)\n",
    "X_test_size = len(X_test)\n",
    "f_dat_size = len(final_dataset_no_outliers)\n",
    "\n",
    "# Comparing the lengths\n",
    "diff = abs(f_dat_size* 0.2 - X_test_size)\n",
    "threshhold = 1\n",
    "\n",
    "if diff <= threshhold:\n",
    "    print(f\"{BOLD}The datasets have the same size, or a similar one (+-{threshhold}){END}\\n\")\n",
    "else:\n",
    "    print(f\"{BOLD}The sizes are too different!{END}\")\n",
    "\n",
    "# Computing the final size of the datset\n",
    "sum = X_test_size + X_train_size\n",
    "    \n",
    "print(f\"{BOLD}The sum of the two splitted datasets is:{END} {X_train_size}{BOLD} + {END}{X_test_size}{BOLD} = {END}{sum}\")\n",
    "print(f\"{BOLD}The size of the final dataset is:{END} {f_dat_size}\\n\")\n",
    "if sum == f_dat_size:\n",
    "    print(f\"{BOLD}The two datasets have the same size!{END}\")\n",
    "else:\n",
    "    print(f\"{BOLD}The two datasets don't have the same size :({END}\")"
   ]
  },
  {
   "cell_type": "markdown",
   "metadata": {},
   "source": [
    "The importance is not in the sizes, the keypoint is the personality of each individual"
   ]
  },
  {
   "cell_type": "code",
   "execution_count": 67,
   "metadata": {},
   "outputs": [
    {
     "name": "stdout",
     "output_type": "stream",
     "text": [
      "         Revenue  Sector  Legal_Form_Code  CNT_EMPLOYEE  CNT_CB_DENSITY  \\\n",
      "10900   760000.0    40.0             14.0            15           207.0   \n",
      "3570   1480535.0    24.0             14.0            20            74.0   \n",
      "12885   280000.0    44.0              4.0            14            11.0   \n",
      "8292    480000.0    61.0              4.0            17            60.0   \n",
      "11918  1700000.0    72.0             14.0            12           837.0   \n",
      "...          ...     ...              ...           ...             ...   \n",
      "4622   1018142.0    43.0             31.0            11           183.0   \n",
      "7361    300000.0    82.0             14.0            19            63.0   \n",
      "7423    600000.0    31.0             14.0            14           414.0   \n",
      "7763   2044402.0    55.0             14.0            25           193.0   \n",
      "12827   957000.0    68.0             14.0            10             7.0   \n",
      "\n",
      "       CNT_CB_MOB_DENSITY  CNT_CB_FN_DENSITY  Mobile_potential  City_coded  \n",
      "10900               204.0               16.0       1967.532200        2161  \n",
      "3570                 74.0                0.0       1805.588927        1281  \n",
      "12885                11.0                0.0       2200.019764         104  \n",
      "8292                 57.0                5.0       1203.972459         785  \n",
      "11918               825.0               47.0       2301.570191         571  \n",
      "...                   ...                ...               ...         ...  \n",
      "4622                182.0                6.0       1979.442586        1315  \n",
      "7361                 62.0                3.0       1507.983210         937  \n",
      "7423                409.0               18.0       1863.270054         458  \n",
      "7763                192.0                6.0       2119.845128        1315  \n",
      "12827                 7.0                0.0       2110.099931        1119  \n",
      "\n",
      "[5089 rows x 9 columns]\n"
     ]
    }
   ],
   "source": [
    "print(X_train)"
   ]
  },
  {
   "cell_type": "markdown",
   "metadata": {
    "id": "0Doge9L_KLiM"
   },
   "source": [
    "[**EX7**] [**REPORT**] Draw the histograms of `y_train`and `y_test`. Is the dataset balanced (similar number of rows for each class or Target) or imbalanced ? How do you think it could affect to quality of the classifier?"
   ]
  },
  {
   "cell_type": "code",
   "execution_count": 68,
   "metadata": {},
   "outputs": [
    {
     "name": "stdout",
     "output_type": "stream",
     "text": [
      "The number of rows with Target value 0 is: 4289, while there are 800 rows with Target 1\n"
     ]
    },
    {
     "data": {
      "image/png": "[encoded data removed]",
      "text/plain": [
       "<Figure size 432x288 with 1 Axes>"
      ]
     },
     "metadata": {
      "needs_background": "light"
     },
     "output_type": "display_data"
    },
    {
     "name": "stdout",
     "output_type": "stream",
     "text": [
      "The number of rows with Target value 0 is: 1058, while there are 215 rows with Target 1\n"
     ]
    },
    {
     "data": {
      "image/png": "[encoded data removed]",
      "text/plain": [
       "<Figure size 432x288 with 1 Axes>"
      ]
     },
     "metadata": {
      "needs_background": "light"
     },
     "output_type": "display_data"
    }
   ],
   "source": [
    "num_0_train = 0\n",
    "for el in y_train:\n",
    "    num_0_train += el\n",
    "print(f\"The number of rows with Target value 0 is: {len(y_train) - num_0_train}, while there are {num_0_train} rows with Target 1\")\n",
    "\n",
    "plt.hist(y_train)\n",
    "plt.title('Histogram of the y training dataset')\n",
    "plt.show()\n",
    "\n",
    "num_0_test = 0\n",
    "for el in y_test:\n",
    "    num_0_test += el\n",
    "print(f\"The number of rows with Target value 0 is: {len(y_test) - num_0_test}, while there are {num_0_test} rows with Target 1\")\n",
    "plt.hist(y_test)\n",
    "plt.title('Histogram of the y testing dataset')\n",
    "plt.show()"
   ]
  },
  {
   "cell_type": "markdown",
   "metadata": {
    "id": "pVofh0d-KLiT"
   },
   "source": [
    "# 2. Model Training: from baseline models to ensemble¶"
   ]
  },
  {
   "cell_type": "markdown",
   "metadata": {
    "id": "P58EvGU1KLiT"
   },
   "source": [
    "Now we are ready to enter in the training stage of the machine learning models. The common way to procedure is starting with baseline models (i.e. SVM, Decision Trees, Naive Bayes, etc....) and later, try to improve it adjusting hyperparameters of the models or creating more complex models architectures as ensembles."
   ]
  },
  {
   "cell_type": "markdown",
   "metadata": {
    "id": "hKyfjGlmKLiU"
   },
   "source": [
    "## 2.1. Baseline of models: Training and evaluation"
   ]
  },
  {
   "cell_type": "markdown",
   "metadata": {
    "id": "eWN0sijJKLiU"
   },
   "source": [
    "In the following section we are training a SVM, Decision Tree and Naive Bayes algorithms. To do it, we will use the `X_train`and `y_train`datasets.\n",
    "Later on we will evaluate the performance (i.e. **accuracy**, **confusion matrix**, **recall** and **precision**) of each model with the `test`dataset, i.e. `X_test`and `y_test`.\n",
    "\n",
    "\n",
    "Tip 1: You may use [classification_report()](https://scikit-learn.org/stable/modules/generated/sklearn.metrics.classification_report.html) from Sklearn library to calculate the **precision**, **recall** of the model.\n",
    "\n",
    "Tip 2: You may use [confusion_matrix()](https://scikit-learn.org/stable/modules/generated/sklearn.metrics.confusion_matrix.html) from Sklearn library to calculate the confusion matrix of a model.\n",
    "\n",
    "Tip 3: When using Sklearn library, you may use the function **.score(X_test, y_test)** to calculate the accuracy value."
   ]
  },
  {
   "cell_type": "markdown",
   "metadata": {
    "id": "2zQCoC5JKLiV"
   },
   "source": [
    "### Classification with a SVM model"
   ]
  },
  {
   "cell_type": "markdown",
   "metadata": {
    "id": "VnWGf-D6KLiV"
   },
   "source": [
    "[**EX8**] [**CODE**] Train the SVM classifier of the Sklearn library. Evaluate the following metrics for kernel=\"rbf\":\n",
    "- Which is **precision**, **recall** and **accuracy** of the algorithm?\n",
    "- Which is the **confusion matrix**?\n",
    "- Is the algorithm classifying both classes (Target=0 and Target=1) in a similar way? Why?\n",
    "- Compare the **precision** and **recall** of the **training** dataset (i.e.`X_train`and `y_train`) vs the **test** dataset (i.e. `X_test`and `y_test`). Which is better? Why? Which is the correct measure to estimate the performance for other unseen datasets? Why?"
   ]
  },
  {
   "cell_type": "code",
   "execution_count": 62,
   "metadata": {},
   "outputs": [
    {
     "name": "stdout",
     "output_type": "stream",
     "text": [
      "\u001b[1mThe confusion matrix of the model trained with the train datasets:\u001b[0m\n",
      "[[1058    0]\n",
      " [ 215    0]]\n",
      "\n",
      "\u001b[1mThe precision and recall of the training dataset:\u001b[0m\n",
      "              precision    recall  f1-score   support\n",
      "\n",
      "           0       0.83      1.00      0.91      1058\n",
      "           1       0.00      0.00      0.00       215\n",
      "\n",
      "    accuracy                           0.83      1273\n",
      "   macro avg       0.42      0.50      0.45      1273\n",
      "weighted avg       0.69      0.83      0.75      1273\n",
      "\n"
     ]
    },
    {
     "name": "stderr",
     "output_type": "stream",
     "text": [
      "c:\\Users\\Usuari\\AppData\\Local\\Programs\\Python\\Python310\\lib\\site-packages\\sklearn\\metrics\\_classification.py:1327: UndefinedMetricWarning: Precision and F-score are ill-defined and being set to 0.0 in labels with no predicted samples. Use `zero_division` parameter to control this behavior.\n",
      "  _warn_prf(average, modifier, msg_start, len(result))\n",
      "c:\\Users\\Usuari\\AppData\\Local\\Programs\\Python\\Python310\\lib\\site-packages\\sklearn\\metrics\\_classification.py:1327: UndefinedMetricWarning: Precision and F-score are ill-defined and being set to 0.0 in labels with no predicted samples. Use `zero_division` parameter to control this behavior.\n",
      "  _warn_prf(average, modifier, msg_start, len(result))\n",
      "c:\\Users\\Usuari\\AppData\\Local\\Programs\\Python\\Python310\\lib\\site-packages\\sklearn\\metrics\\_classification.py:1327: UndefinedMetricWarning: Precision and F-score are ill-defined and being set to 0.0 in labels with no predicted samples. Use `zero_division` parameter to control this behavior.\n",
      "  _warn_prf(average, modifier, msg_start, len(result))\n"
     ]
    },
    {
     "name": "stdout",
     "output_type": "stream",
     "text": [
      "0.8311076197957581\n"
     ]
    }
   ],
   "source": [
    "# Training the SVM model with the train datasets\n",
    "clf_train = SVC(kernel='rbf')\n",
    "clf_train.fit(X_train, y_train)\n",
    "\n",
    "# Testing the model and then calculating the confusion matrix\n",
    "svc_predictions_train = clf_train.predict(X_test)\n",
    "print(f\"{BOLD}The confusion matrix of the model trained with the train datasets:{END}\\n{confusion_matrix(y_test, svc_predictions_train)}\\n\")\n",
    "\n",
    "# Check the precision and recall of the training dataset\n",
    "print(f\"{BOLD}The precision and recall of the training dataset:{END}\\n{classification_report(y_test, svc_predictions_train)}\")\n",
    "\n",
    "# Last let's compute the accuracy values\n",
    "accuracy_scores_train = clf_train.score(X_test, y_test)\n",
    "print(accuracy_scores_train)"
   ]
  },
  {
   "cell_type": "code",
   "execution_count": 70,
   "metadata": {},
   "outputs": [
    {
     "name": "stdout",
     "output_type": "stream",
     "text": [
      "\u001b[1mThe confusion matrix of the model trained with the train datasets:\u001b[0m\n",
      "[[4289    0]\n",
      " [ 794    6]]\n",
      "\n",
      "\u001b[1mThe precision and recall of the training dataset:\u001b[0m\n",
      "              precision    recall  f1-score   support\n",
      "\n",
      "           0       0.84      1.00      0.92      4289\n",
      "           1       1.00      0.01      0.01       800\n",
      "\n",
      "    accuracy                           0.84      5089\n",
      "   macro avg       0.92      0.50      0.47      5089\n",
      "weighted avg       0.87      0.84      0.77      5089\n",
      "\n",
      "0.8439772057378659\n"
     ]
    }
   ],
   "source": [
    "# Training the SVM model with the train datasets\n",
    "clf_train = SVC(kernel='rbf')\n",
    "clf_train.fit(X_train, y_train)\n",
    "\n",
    "# Testing the model and then calculating the confusion matrix\n",
    "svc_predictions_train = clf_train.predict(X_train)\n",
    "print(f\"{BOLD}The confusion matrix of the model trained with the train datasets:{END}\\n{confusion_matrix(y_train, svc_predictions_train)}\\n\")\n",
    "\n",
    "# Check the precision and recall of the training dataset\n",
    "print(f\"{BOLD}The precision and recall of the training dataset:{END}\\n{classification_report(y_train, svc_predictions_train)}\")\n",
    "\n",
    "# Last let's compute the accuracy values\n",
    "accuracy_scores_train = clf_train.score(X_train, y_train)\n",
    "print(accuracy_scores_train)"
   ]
  },
  {
   "cell_type": "markdown",
   "metadata": {
    "id": "jBTK-h4cKLiY"
   },
   "source": [
    "### Classification with a Decision Tree model"
   ]
  },
  {
   "cell_type": "markdown",
   "metadata": {
    "id": "DMRkY9uvKLiY"
   },
   "source": [
    "[**EX9**] [**CODE**] Train the Decision Tree algorithm from Sklearn library. Evaluate the following metrics:\n",
    "- Which is **precision**, **recall** and **accuracy** of the algorithm?\n",
    "- Which is the **confusion matrix**?\n",
    "- Is Decision Tree algorithm working better than SVM? Why?"
   ]
  },
  {
   "cell_type": "code",
   "execution_count": 71,
   "metadata": {},
   "outputs": [
    {
     "name": "stdout",
     "output_type": "stream",
     "text": [
      "\u001b[1mThe confusion matrix of the Decision Tree model:\u001b[0m\n",
      "[[894 164]\n",
      " [159  56]]\n",
      "\n",
      "\u001b[1mThe precision and recall of the training dataset:\u001b[0m\n",
      "              precision    recall  f1-score   support\n",
      "\n",
      "           0       0.85      0.84      0.85      1058\n",
      "           1       0.25      0.26      0.26       215\n",
      "\n",
      "    accuracy                           0.75      1273\n",
      "   macro avg       0.55      0.55      0.55      1273\n",
      "weighted avg       0.75      0.75      0.75      1273\n",
      "\n"
     ]
    }
   ],
   "source": [
    "# Training the Decision Tree model with the train datasets\n",
    "dec_tree_model = DecisionTreeClassifier()\n",
    "dec_tree_model.fit(X_train, y_train)\n",
    "\n",
    "# Testing the model and then calculating the confusion matrix\n",
    "dec_tree_predictions = dec_tree_model.predict(X_test)\n",
    "print(f\"{BOLD}The confusion matrix of the Decision Tree model:{END}\\n{confusion_matrix(y_test, dec_tree_predictions)}\\n\")\n",
    "\n",
    "# Check the precision and recall of the training dataset\n",
    "print(f\"{BOLD}The precision and recall of the training dataset:{END}\\n{classification_report(y_test, dec_tree_predictions)}\")"
   ]
  },
  {
   "cell_type": "markdown",
   "metadata": {
    "id": "VxSee22YKLiy"
   },
   "source": [
    "### Comparing algorithm consistenly: KFold cross-validation"
   ]
  },
  {
   "cell_type": "markdown",
   "metadata": {
    "id": "K-n_MHhvKLiz"
   },
   "source": [
    "When we are looking for the best algorithm to classify a dataset, it is very useful to compare all of them. Besides, to protect the training from **overfitting** and calculate the performance with less variance than a single train-test split, it is uselful to apply **K-Fold cross-validation**. The way that KFolds works is splitting the dataset into k-parts or **fold** (e.g. k = 3, 5 or k = 10). The algorithm is trained on k − 1 folds with one held back and tested on the held back fold."
   ]
  },
  {
   "cell_type": "markdown",
   "metadata": {
    "id": "23xG-yXNKLiz"
   },
   "source": [
    "[**EX10**] [**CODE**] Train a SVM and Decision Tree algorithms using a KFold cross-validation with **k=5** and calculate the **mean** and **standard deviation** of the **accuracy**. Plot a boxplot of the accuracy for every model. Which is the model with better mean value of the accuracy? Which is the algorithm with less deviation on the accuracy?  \n",
    "\n",
    "Tip 1: You may use [KFold](https://scikit-learn.org/stable/modules/generated/sklearn.model_selection.KFold.html) to apply cross-validation."
   ]
  },
  {
   "cell_type": "code",
   "execution_count": 72,
   "metadata": {},
   "outputs": [
    {
     "name": "stdout",
     "output_type": "stream",
     "text": [
      "\u001b[1mModel SVM with accuracy (mean):\u001b[0m 0.843782997490597 \u001b[1mand accuracy (std):\u001b[0m 0.01371414596388194\n",
      "\u001b[1mModel Decision Trees with accuracy (mean):\u001b[0m 0.7488740526955315 \u001b[1mand accuracy (std):\u001b[0m 0.01302987003817707\n"
     ]
    }
   ],
   "source": [
    "# Models definition\n",
    "models=[]\n",
    "models.append(('SVM', SVC()))\n",
    "models.append(('Decision Trees', DecisionTreeClassifier()))\n",
    "\n",
    "# Evaluate each models\n",
    "results=[]\n",
    "names=[]\n",
    "scoring_metric='accuracy'\n",
    "splits = [3,5,10]\n",
    "\n",
    "for name_model, model in models:\n",
    "    kfold= KFold(n_splits=5)\n",
    "    cv_results=cross_val_score(model, X_train, y_train, cv=kfold, scoring=scoring_metric)\n",
    "    results.append(cv_results)\n",
    "    names.append(name_model)\n",
    "    print(f\"{BOLD}Model {name_model} with accuracy (mean):{END} {cv_results.mean()} {BOLD}and accuracy (std):{END} {cv_results.std()}\")\n",
    "    "
   ]
  },
  {
   "cell_type": "code",
   "execution_count": 73,
   "metadata": {},
   "outputs": [
    {
     "data": {
      "image/png": "[encoded data removed]",
      "text/plain": [
       "<Figure size 432x288 with 1 Axes>"
      ]
     },
     "metadata": {
      "needs_background": "light"
     },
     "output_type": "display_data"
    }
   ],
   "source": [
    "# Diplaying the accuracy boxplot of both models\n",
    "fig=pyplot.figure()\n",
    "fig.suptitle (\"Algorithm accuracy comparison\")\n",
    "ax=fig.add_subplot(111)\n",
    "pyplot.boxplot(results)\n",
    "ax.set_xticklabels(names)\n",
    "pyplot.show()"
   ]
  },
  {
   "cell_type": "markdown",
   "metadata": {
    "id": "_aEAtktzKLi2"
   },
   "source": [
    "The output of the boxplots should look like this:"
   ]
  },
  {
   "cell_type": "markdown",
   "metadata": {
    "id": "5h_URjohKLi6"
   },
   "source": [
    "## 2.2 Improving the model"
   ]
  },
  {
   "cell_type": "markdown",
   "metadata": {
    "id": "zDgLSJn_KLi7"
   },
   "source": [
    "As we observe from the baseline models, even though the accuracy is over 70% the classifiers don't distinguish properly both classes, i.e. **Target=1** and **Target=0**.  \n",
    "In this scenario, we should apply another strategies to improve the perfomance. There are several options: from adjusting the balance of the classes or doing the fine tuning of the hyperparameters of the models (for instance the type of kernel in SVM or the minimum number of samples per leaf in Decision Tree) to combine differents models to create ensembles.\n",
    "In this section, we will evaluate our classifiers in two ways:\n",
    "- Forcing the balancing of both classes\n",
    "- Building ensembles of models"
   ]
  },
  {
   "cell_type": "markdown",
   "metadata": {
    "id": "0xGX62GJKLi8"
   },
   "source": [
    "### Balancing the dataset"
   ]
  },
  {
   "cell_type": "markdown",
   "metadata": {
    "id": "7HL7D2DvKLi8"
   },
   "source": [
    "Let's check the type of balancing we have in our training and test datasets."
   ]
  },
  {
   "cell_type": "markdown",
   "metadata": {
    "id": "EV6OfIKgKLi9"
   },
   "source": [
    "[**EX11**][**CODE**] Split the previous `final_dataset`in two datasets: `customer_dt` for class 1 and `noncustomer_dt`for class 0. Calculate the number of samples for the **customers** class (i.e. Target=1) and for the **noncustomers** class (i.e. Target=0). Is the `final_dataset`balanced or imbalanced? Explain two options to match both datasets.\n"
   ]
  },
  {
   "cell_type": "markdown",
   "metadata": {
    "id": "w9rVOQ5iKLjD"
   },
   "source": [
    "Let's undersample the `noncustomer_dt` to balance both datasets:"
   ]
  },
  {
   "cell_type": "code",
   "execution_count": 75,
   "metadata": {
    "id": "8a9L5o8iKLjE",
    "outputId": "d98a1048-c96e-4d0a-fee4-61f71bdbb955"
   },
   "outputs": [
    {
     "name": "stdout",
     "output_type": "stream",
     "text": [
      "The new number of samples in noncustomer dataset is: 1015\n"
     ]
    }
   ],
   "source": [
    "# Spliting the dataset into customers and noncustomers datasets\n",
    "customer_dt = final_dataset_no_outliers[final_dataset_no_outliers['Target'] == 1]\n",
    "noncustomer_dt = final_dataset_no_outliers[final_dataset_no_outliers['Target'] == 0]\n",
    "\n",
    "# Undersampling the noncustomers dataset\n",
    "noncustomer_dt_sample=noncustomer_dt.sample(len(customer_dt))\n",
    "print(\"The new number of samples in noncustomer dataset is:\", len(noncustomer_dt_sample))"
   ]
  },
  {
   "cell_type": "markdown",
   "metadata": {
    "id": "P2l66X4jKLjG"
   },
   "source": [
    "If we append both datasets, the **customer_dt** and the **noncustomer_dt_sample**, the new `final_dataset`looks like:"
   ]
  },
  {
   "cell_type": "code",
   "execution_count": 76,
   "metadata": {
    "id": "C0WTasz3KLjH",
    "outputId": "472f4dbb-8f83-4be0-c454-95e35f3e661b"
   },
   "outputs": [
    {
     "name": "stderr",
     "output_type": "stream",
     "text": [
      "C:\\Users\\Usuari\\AppData\\Local\\Temp\\ipykernel_22332\\1730445038.py:1: FutureWarning: The frame.append method is deprecated and will be removed from pandas in a future version. Use pandas.concat instead.\n",
      "  final_dataset_eq = customer_dt.append(noncustomer_dt_sample).reset_index().drop('index', axis=1)\n"
     ]
    },
    {
     "data": {
      "text/plain": [
       "<AxesSubplot:>"
      ]
     },
     "execution_count": 76,
     "metadata": {},
     "output_type": "execute_result"
    },
    {
     "data": {
      "image/png": "[encoded data removed]",
      "text/plain": [
       "<Figure size 432x288 with 1 Axes>"
      ]
     },
     "metadata": {
      "needs_background": "light"
     },
     "output_type": "display_data"
    }
   ],
   "source": [
    "final_dataset_eq = customer_dt.append(noncustomer_dt_sample).reset_index().drop('index', axis=1)\n",
    "final_dataset_eq = final_dataset_eq.loc[:,['City_coded', 'Revenue', 'Sector', 'Legal_Form_Code', 'CNT_EMPLOYEE', 'CNT_CB_DENSITY',\n",
    "                            'CNT_CB_MOB_DENSITY', 'CNT_CB_FN_DENSITY', 'Mobile_potential','Target']]\n",
    "final_dataset_eq.Target.hist()"
   ]
  },
  {
   "cell_type": "markdown",
   "metadata": {
    "id": "ZQ0HyRiOKLjJ"
   },
   "source": [
    "[**EX12**][**CODE**][**REPORT**] Train a SVC and Decision Tree algorithm with the new `final_dataset`. Evaluate the **recall**, **precision** and **confusion matrix** of all 2 models.\n",
    "- Which has better accuracy?\n",
    "- Which is the model with better recall? And accuracy?\n",
    "- Which model you recommend to classify both classes? Justify your answer"
   ]
  },
  {
   "cell_type": "code",
   "execution_count": 77,
   "metadata": {},
   "outputs": [],
   "source": [
    "no_targ_final = final_dataset_eq.drop(\"Target\", axis = 1)  # dataset without target for X variables\n",
    "X_train, X_test, y_train, y_test = train_test_split (final_dataset_eq.iloc[:,:-1], final_dataset_eq.iloc[:,-1], test_size=0.33, random_state=42) "
   ]
  },
  {
   "cell_type": "code",
   "execution_count": 78,
   "metadata": {},
   "outputs": [
    {
     "name": "stdout",
     "output_type": "stream",
     "text": [
      "\u001b[1mThe confusion matrix of the model trained with the train datasets:\u001b[0m\n",
      " [[223 110]\n",
      " [178 159]]\n",
      "\n",
      "\u001b[1mThe precision and recall of the training dataset:\u001b[0m \n",
      "              precision    recall  f1-score   support\n",
      "\n",
      "           0       0.56      0.67      0.61       333\n",
      "           1       0.59      0.47      0.52       337\n",
      "\n",
      "    accuracy                           0.57       670\n",
      "   macro avg       0.57      0.57      0.57       670\n",
      "weighted avg       0.57      0.57      0.57       670\n",
      "\n",
      "0.5701492537313433\n"
     ]
    }
   ],
   "source": [
    "# Training the SVC model with the train datasets\n",
    "clf_train = SVC(kernel='rbf')\n",
    "clf_train.fit(X_train, y_train)\n",
    "\n",
    "# Testing the model and then calculating the confusion matrix\n",
    "svc_predictions_train = clf_train.predict(X_test)\n",
    "print(f\"{BOLD}The confusion matrix of the model trained with the train datasets:{END}\\n {confusion_matrix(y_test, svc_predictions_train)}\\n\")\n",
    "\n",
    "# Check the precision and recall of the training dataset\n",
    "print(f\"{BOLD}The precision and recall of the training dataset:{END} \\n{classification_report(y_test, svc_predictions_train)}\")\n",
    "\n",
    "# Last let's compute the accuracy and recall values\n",
    "accuracy_scores_train = clf_train.score(X_test, y_test)\n",
    "print(accuracy_scores_train)"
   ]
  },
  {
   "cell_type": "code",
   "execution_count": 79,
   "metadata": {},
   "outputs": [
    {
     "name": "stdout",
     "output_type": "stream",
     "text": [
      "\u001b[1mThe confusion matrix of the Decision Tree model:\u001b[0m\n",
      "[[185 148]\n",
      " [151 186]]\n",
      "\n",
      "\u001b[1mThe precision and recall of the training dataset:\u001b[0m\n",
      "              precision    recall  f1-score   support\n",
      "\n",
      "           0       0.55      0.56      0.55       333\n",
      "           1       0.56      0.55      0.55       337\n",
      "\n",
      "    accuracy                           0.55       670\n",
      "   macro avg       0.55      0.55      0.55       670\n",
      "weighted avg       0.55      0.55      0.55       670\n",
      "\n",
      "0.5701492537313433\n"
     ]
    }
   ],
   "source": [
    "# Training the Decision Tree model with the train datasets\n",
    "dec_tree_model = DecisionTreeClassifier()\n",
    "dec_tree_model.fit(X_train, y_train)\n",
    "\n",
    "# Testing the model and then calculating the confusion matrix\n",
    "dec_tree_predictions = dec_tree_model.predict(X_test)\n",
    "print(f\"{BOLD}The confusion matrix of the Decision Tree model:{END}\\n{confusion_matrix(y_test, dec_tree_predictions)}\\n\")\n",
    "\n",
    "# Check the precision and recall of the training dataset\n",
    "print(f\"{BOLD}The precision and recall of the training dataset:{END}\\n{classification_report(y_test, dec_tree_predictions)}\")\n",
    "\n",
    "# Last let's compute the accuracy and recall values\n",
    "accuracy_scores_train = clf_train.score(X_test, y_test)\n",
    "print(accuracy_scores_train)"
   ]
  },
  {
   "cell_type": "markdown",
   "metadata": {
    "id": "So2hzc-BKLjU"
   },
   "source": [
    "### Ensembling models"
   ]
  },
  {
   "cell_type": "markdown",
   "metadata": {
    "id": "7GbOE6CMKLjU"
   },
   "source": [
    "Another mechanism to improve the performance of a classifier is to combine several algorithms. The three most popular methods for combining models are:\n",
    "- Bagging combines multiple models that are trained with different subsamples of the training dataset.\n",
    "- Boosting combines multiple models in cascade and each of them learns to fix the prediction errors of the prior model.\n",
    "- Voting combines statistically the output of several models.\n",
    "\n",
    "Usually Bagging and Boosting are formed by models of the same type meanwhile voting could be formed by different models."
   ]
  },
  {
   "cell_type": "markdown",
   "metadata": {
    "id": "NgkK3L4xKLjV"
   },
   "source": [
    "### Voting ensemble"
   ]
  },
  {
   "cell_type": "markdown",
   "metadata": {
    "id": "24SsOU59KLjW"
   },
   "source": [
    "[**EX13**][**CODE**][**REPORT**] Build a **voting** ensemble formed by a SVM and Decision Tree and train it with the balanced training dataset. Calculate the **precision**, **recall** and **confusion matrix** of the new classifier. Is it better than any of the previous baseline models? Justify your answer.\n",
    "\n",
    "Tip: You may use [VotingClassifier()](https://scikit-learn.org/stable/modules/generated/sklearn.ensemble.VotingClassifier.html) to build this type of ensemble."
   ]
  },
  {
   "cell_type": "code",
   "execution_count": 80,
   "metadata": {},
   "outputs": [
    {
     "name": "stdout",
     "output_type": "stream",
     "text": [
      "\u001b[1mThe precision of the voting classifier is:\u001b[0m 0.5878378378378378\n",
      "\u001b[1mThe recall of the voting classifier is:\u001b[0m 0.258160237388724\n",
      "\u001b[1mThe confusion matrix of the Decision Tree model:\u001b[0m\n",
      "[[272  61]\n",
      " [250  87]]\n",
      "\n"
     ]
    }
   ],
   "source": [
    "# Models definition\n",
    "svc_model = SVC()\n",
    "dec_tree = DecisionTreeClassifier()\n",
    "\n",
    "estimators_ex13 = [(\"SVC\",svc_model), (\"DTC\", dec_tree )]\n",
    "vc = VotingClassifier(estimators_ex13) # Building the voting classifier\n",
    "vc.fit(X_train, y_train)\n",
    "\n",
    "# Computing paramaters of the classifier\n",
    "vc_predicts = vc.predict(X_test)\n",
    "vc_prec = precision_score(y_test, vc_predicts)\n",
    "vc_recall = recall_score(y_test, vc_predicts)\n",
    "\n",
    "print(f\"{BOLD}The precision of the voting classifier is:{END} {vc_prec}\")\n",
    "print(f\"{BOLD}The recall of the voting classifier is:{END} {vc_recall}\")\n",
    "print(f\"{BOLD}The confusion matrix of the Decision Tree model:{END}\\n{confusion_matrix(y_test, vc_predicts)}\\n\")"
   ]
  },
  {
   "cell_type": "markdown",
   "metadata": {
    "id": "ocJiGPkJKLjY"
   },
   "source": [
    "### Bagging ensemble: Random Forest"
   ]
  },
  {
   "cell_type": "markdown",
   "metadata": {
    "id": "LQMj5ap5KLjZ"
   },
   "source": [
    "[**EX14**][**CODE**][**REPORT**] Build a **Bagging** ensemble based on Random Forest. Random Forest is considered a bagging ensemble formed by Decision Trees algorithms. Train the Random Forest with the balanced training dataset, i.e. `X_train` and `y_train`. Calculate the **precision**, **recall** and **confusion matrix** of the new classifier. Is it better than any of the previous baseline models? Justify your answer.\n",
    "\n",
    "Tip: You may use [RandomForestClassifier()](https://scikit-learn.org/stable/modules/generated/sklearn.ensemble.RandomForestClassifier.html) to build this type of ensemble."
   ]
  },
  {
   "cell_type": "code",
   "execution_count": 81,
   "metadata": {},
   "outputs": [
    {
     "name": "stdout",
     "output_type": "stream",
     "text": [
      "\u001b[1mThe precision of the voting classifier is:\u001b[0m 0.6045845272206304\n",
      "\u001b[1mThe recall of the voting classifier is:\u001b[0m 0.6261127596439169\n",
      "\u001b[1mThe confusion matrix of the Decision Tree model:\u001b[0m\n",
      " [[195 138]\n",
      " [126 211]]\n",
      "\n"
     ]
    }
   ],
   "source": [
    "# Building the random forest\n",
    "random_forest = RandomForestClassifier() #Since we have no comments regarding the parameters, we considered we had to use the deffault ones.\n",
    "random_forest.fit(X_train, y_train)\n",
    "\n",
    "# Computing paramaters of the classifier\n",
    "rf_predicts = random_forest.predict(X_test)\n",
    "rf_prec = precision_score(y_test, rf_predicts)\n",
    "rf_recall = recall_score(y_test, rf_predicts)\n",
    "\n",
    "print(f\"{BOLD}The precision of the voting classifier is:{END} {rf_prec}\")\n",
    "print(f\"{BOLD}The recall of the voting classifier is:{END} {rf_recall}\")\n",
    "print(f\"{BOLD}The confusion matrix of the Decision Tree model:{END}\\n {confusion_matrix(y_test, rf_predicts)}\\n\")"
   ]
  },
  {
   "cell_type": "markdown",
   "metadata": {
    "id": "4G08f_aEKLjd"
   },
   "source": [
    "[**EX15**][**REPORT**] Plot the histograms of the probabilities resulting of the prediction of the Random Forest model for class 0 and class 1."
   ]
  },
  {
   "cell_type": "code",
   "execution_count": 82,
   "metadata": {},
   "outputs": [
    {
     "data": {
      "image/png": "[encoded data removed]",
      "text/plain": [
       "<Figure size 432x288 with 1 Axes>"
      ]
     },
     "metadata": {
      "needs_background": "light"
     },
     "output_type": "display_data"
    }
   ],
   "source": [
    "probabilities_of_prediction = random_forest.predict_proba(X_test) # Getting the probabilities\n",
    "probabilities_of_prediction = np.append(probabilities_of_prediction[:, 1].reshape(-1,1), np.asarray(y_test).reshape(-1,1), axis = 1) # Appending the target variable so that we can separate both classes\n",
    "\n",
    "# With this code we aim to split our dataset into two splits, one where we predict they are customers, and another where we predict they are not\n",
    "probabilities_of_prediction_customers = probabilities_of_prediction[probabilities_of_prediction[:, 1] == 1]\n",
    "probabilities_of_prediction_noncustomers = probabilities_of_prediction[probabilities_of_prediction[:, 1] == 0]\n",
    "\n",
    "# We selected the number of bins to be 40 to get a more informative histogram than the base one, which only had 10 bins\n",
    "plt.hist(probabilities_of_prediction_customers[:, 0], bins = 40) \n",
    "plt.hist(probabilities_of_prediction_noncustomers[:, 0], bins = 40)\n",
    "plt.legend(['Customer distribution', 'Nonustomer distribution'])\n",
    "plt.show()"
   ]
  },
  {
   "cell_type": "markdown",
   "metadata": {
    "id": "K9Vbyi1lKLjg"
   },
   "source": [
    "### Boosting ensemble: Gradient Tree Boosting"
   ]
  },
  {
   "cell_type": "markdown",
   "metadata": {
    "id": "VTZvSgz8KLji"
   },
   "source": [
    "[**EX16**][**CODE**][**REPORT**] Build a **Boosting** ensemble based on Gradient Tree Boosting (GBT). There are several boosting algorithms as Adaboost, etc.  Train the GBT with the balanced training dataset, i.e. `X_train` and `y_train`. Calculate the **precision**, **recall** and **confusion matrix** of the new classifier. Is it better than any of the previous baseline models? Justify your answer.\n",
    "\n",
    "Tip: You may use [GradientBoostingClassifier](https://scikit-learn.org/stable/modules/generated/sklearn.ensemble.GradientBoostingClassifier.html) to build this type of ensemble."
   ]
  },
  {
   "cell_type": "code",
   "execution_count": 83,
   "metadata": {},
   "outputs": [
    {
     "name": "stdout",
     "output_type": "stream",
     "text": [
      "\u001b[1mThe precision of the voting classifier is:\u001b[0m 0.6022408963585434\n",
      "\u001b[1mThe recall of the voting classifier is:\u001b[0m 0.6379821958456974\n",
      "\u001b[1mThe confusion matrix of the Decision Tree model:\u001b[0m\n",
      "[[191 142]\n",
      " [122 215]]\n",
      "\n"
     ]
    }
   ],
   "source": [
    "# Building the random forest\n",
    "GBT = GradientBoostingClassifier()\n",
    "GBT.fit(X_train, y_train)\n",
    "\n",
    "# Computing paramaters of the classifier\n",
    "gbt_predicts = GBT.predict(X_test)\n",
    "gbt_prec = precision_score(y_test, gbt_predicts)\n",
    "gbt_recall = recall_score(y_test, gbt_predicts)\n",
    "\n",
    "print(f\"{BOLD}The precision of the voting classifier is:{END} {gbt_prec}\")\n",
    "print(f\"{BOLD}The recall of the voting classifier is:{END} {gbt_recall}\")\n",
    "print(f\"{BOLD}The confusion matrix of the Decision Tree model:{END}\\n{confusion_matrix(y_test, gbt_predicts)}\\n\")"
   ]
  },
  {
   "cell_type": "markdown",
   "metadata": {
    "id": "KLwM8rn_KLjl"
   },
   "source": [
    "[**EX17**][**REPORT**] Plot the histograms of the probabilities resulting of the prediction of the GBT model for class 0 and class 1. Compare it with histogram of Random Forest. Which one classifies better from your point of view? Why? "
   ]
  },
  {
   "cell_type": "code",
   "execution_count": 84,
   "metadata": {},
   "outputs": [
    {
     "data": {
      "image/png": "[encoded data removed]",
      "text/plain": [
       "<Figure size 432x288 with 1 Axes>"
      ]
     },
     "metadata": {
      "needs_background": "light"
     },
     "output_type": "display_data"
    }
   ],
   "source": [
    "probabilities_of_prediction = GBT.predict_proba(X_test)  # Getting the probabilities\n",
    "probabilities_of_prediction = np.append(probabilities_of_prediction[:, 1].reshape(-1,1), np.asarray(y_test).reshape(-1,1), axis = 1) # Appending the target variable so that we can separate both classes\n",
    "\n",
    "# Separating both classes\n",
    "probabilities_of_prediction_customers = probabilities_of_prediction[probabilities_of_prediction[:, 1] == 1]\n",
    "probabilities_of_prediction_noncustomers = probabilities_of_prediction[probabilities_of_prediction[:, 1] == 0]\n",
    "\n",
    "plt.hist(probabilities_of_prediction_customers[:, 0], bins = 40) \n",
    "plt.hist(probabilities_of_prediction_noncustomers[:, 0], bins = 40)\n",
    "plt.legend(['Customer distribution', 'Nonustomer distribution'])\n",
    "plt.show()"
   ]
  },
  {
   "cell_type": "markdown",
   "metadata": {
    "id": "UvbS-zysKLjq"
   },
   "source": [
    "# 3. Creating a Business opportunity with Machine Learning"
   ]
  },
  {
   "cell_type": "markdown",
   "metadata": {
    "id": "oYWmrLYQKLjP"
   },
   "source": [
    "The cut-off is the **threshold of the probability of the prediction** to assign to class 0 or class 1 the prediction. If probability > cut-off, the model classifies as 1; otherwise, model classifies as 0. \n",
    "The cut-off is a value that can be adjusted to increase the recall or the precision. Usually, there is a **trade-off** between improving the recall-precision."
   ]
  },
  {
   "cell_type": "markdown",
   "metadata": {
    "id": "XBhZ9VKgKLjq"
   },
   "source": [
    "[**EX18**][**CODE**][**REPORT**] Execute the prediction for the selected model. Adjust the cutoff value to optimize the classifier if you consider necessary. How many **non customers** are you going to send to the sales managers to sell our products to them?\n",
    "\n",
    "\n"
   ]
  },
  {
   "cell_type": "code",
   "execution_count": 85,
   "metadata": {},
   "outputs": [
    {
     "name": "stdout",
     "output_type": "stream",
     "text": [
      "Maximizing the noncustomers to avoid losing time and money\n",
      "\u001b[1mThe confusion matrix of the Decision Tree model:\u001b[0m\n",
      "[[278  55]\n",
      " [249  88]]\n",
      "\n",
      "Recall of 0: 0.8348348348348348\n",
      "Recall of 1: 0.6153846153846154\n",
      "Precision of 0: 0.5275142314990512\n",
      "Precision of 1: 0.6153846153846154\n"
     ]
    }
   ],
   "source": [
    "model_GBT = GradientBoostingClassifier()\n",
    "model_GBT.fit(X_train, y_train)\n",
    "GBT_preds = (model_GBT.predict_proba(X_test)[:,1] >= 0.65).astype(bool)#Trying to maximize 0s\n",
    "\n",
    "recall_0 = confusion_matrix(y_test, GBT_preds)[0][0] / ( confusion_matrix(y_test, GBT_preds)[0][0] + confusion_matrix(y_test, GBT_preds)[0][1] )\n",
    "recall_1 = confusion_matrix(y_test, GBT_preds)[1][1] / ( confusion_matrix(y_test, GBT_preds)[0][1] + confusion_matrix(y_test, GBT_preds)[1][1] )\n",
    "prec_0 = confusion_matrix(y_test, GBT_preds)[0][0] / ( confusion_matrix(y_test, GBT_preds)[0][0] + confusion_matrix(y_test, GBT_preds)[1][0] )\n",
    "prec_1 = confusion_matrix(y_test, GBT_preds)[1][1] / ( confusion_matrix(y_test, GBT_preds)[0][1] + confusion_matrix(y_test, GBT_preds)[1][1] )\n",
    "\n",
    "print(\"Maximizing the noncustomers to avoid losing time and money\")\n",
    "print(f\"{BOLD}The confusion matrix of the Decision Tree model:{END}\\n{confusion_matrix(y_test, GBT_preds)}\\n\")\n",
    "print(f\"Recall of 0: {recall_0}\")\n",
    "print(f\"Recall of 1: {recall_1}\")\n",
    "print(f\"Precision of 0: {prec_0}\")\n",
    "print(f\"Precision of 1: {prec_1}\")"
   ]
  },
  {
   "cell_type": "markdown",
   "metadata": {
    "id": "2OKOVuCNKLjt"
   },
   "source": [
    "Usually, Marketing department needs to know and understand the main features of the algorithms. The code below returns the importance of each feature of the `training_dataset`."
   ]
  },
  {
   "cell_type": "code",
   "execution_count": 86,
   "metadata": {
    "id": "nX4VfjM4KLjt"
   },
   "outputs": [
    {
     "name": "stdout",
     "output_type": "stream",
     "text": [
      "[['City_coded', 0.10099579247066531], ['Revenue', 0.17303976537783372], ['Sector', 0.07854799804804025], ['Legal_Form_Code', 0.07973544022358783], ['CNT_EMPLOYEE', 0.09613692979819108], ['CNT_CB_DENSITY', 0.1464796493693943], ['CNT_CB_MOB_DENSITY', 0.09610779918978754], ['CNT_CB_FN_DENS', 0.08558185469568327], ['Mobile_potential', 0.14337477082681693]]\n"
     ]
    }
   ],
   "source": [
    "features=['City_coded','Revenue', 'Sector', 'Legal_Form_Code', 'CNT_EMPLOYEE', 'CNT_CB_DENSITY',\n",
    "                            'CNT_CB_MOB_DENSITY', 'CNT_CB_FN_DENS', 'Mobile_potential']\n",
    "features_values=model_GBT.feature_importances_\n",
    "features_importance=[]\n",
    "for i in range (len(features)):\n",
    "    features_importance.append([features[i],features_values[i]])\n",
    "print(features_importance)"
   ]
  },
  {
   "cell_type": "markdown",
   "metadata": {
    "id": "3gE_DYCvKLjw"
   },
   "source": [
    "[**EX19**][**CODE**][**REPORT**] Order the features by importance. Which are the top 3 features to discriminate between **non customers** and **customers**?"
   ]
  },
  {
   "cell_type": "code",
   "execution_count": 87,
   "metadata": {},
   "outputs": [
    {
     "name": "stdout",
     "output_type": "stream",
     "text": [
      "\u001b[1mPosition 1:\u001b[0m ['Revenue', 0.17303976537783372]\n",
      "\u001b[1mPosition 2:\u001b[0m ['CNT_CB_DENSITY', 0.1464796493693943]\n",
      "\u001b[1mPosition 3:\u001b[0m ['Mobile_potential', 0.14337477082681693]\n",
      "\u001b[1mPosition 4:\u001b[0m ['City_coded', 0.10099579247066531]\n",
      "\u001b[1mPosition 5:\u001b[0m ['CNT_EMPLOYEE', 0.09613692979819108]\n",
      "\u001b[1mPosition 6:\u001b[0m ['CNT_CB_MOB_DENSITY', 0.09610779918978754]\n",
      "\u001b[1mPosition 7:\u001b[0m ['CNT_CB_FN_DENS', 0.08558185469568327]\n",
      "\u001b[1mPosition 8:\u001b[0m ['Legal_Form_Code', 0.07973544022358783]\n",
      "\u001b[1mPosition 9:\u001b[0m ['Sector', 0.07854799804804025]\n"
     ]
    }
   ],
   "source": [
    "to_sort_f = features_importance\n",
    "sorted_f = []\n",
    "new_arr = []\n",
    "it = 1\n",
    "while len(new_arr) < len(to_sort_f):\n",
    "    new_max = 0\n",
    "    max_el = None\n",
    "    for el in to_sort_f:\n",
    "        if el[1] >= new_max and el not in new_arr:\n",
    "            new_max = el[1]\n",
    "            max_el = el\n",
    "    print(f\"{BOLD}Position {it}:{END} {max_el}\")\n",
    "    new_arr.append(max_el)\n",
    "    it+=1\n",
    "    "
   ]
  },
  {
   "cell_type": "markdown",
   "metadata": {
    "id": "-htmJrDzKLjy"
   },
   "source": [
    "  [**EX20**][**REPORT**] In this project, we have used classification techniques to identify potential customers. We have adjusted the main classification parameters as cutoff, recall and precision according to the final purpose: in out case, identify **non customers** that could be interested to buy our products. Consider a new campaign focused on accelerating the sales of a **New IoT tariff** to our customers. Answer the following questions:\n",
    "- In this case, which is the **target** variable? Which are **target=0** samples? And **target=1**?\n",
    "- As the marketing campaing is oriented to our customers we will have further information about them in our internal systems. In particular, we could add to the information of the previous section 3 new variables: data and voice consumption and mobile expense. Adding more data to the dataset may imply more computational data and cost. Would you add these 3 new variables to dataset? Justify your answer.\n",
    "- Today this New IoT tariff is very popular among our customers. Will the training dataset be balanced or unbalanced? Justify your answer.\n",
    "\n",
    "Imagine the following scatter plot (`Number of IoT devices (units)` vs `Number of IoT applications (units)`):\n",
    "\n",
    "![<scatter_plot>](scatter_plot.png)\n",
    "- Describe in terms of `Number of IoT devices (units)` and `Number of IoT applications (units)` the **pattern** of target 1 customers\n",
    "- Draw a plane to separate both classes\n",
    "- Is the training dataset balanced? Justiy your answer\n",
    "- According to the previous plane, which are the customers to be phoned to sell the New IoT tariff?\n",
    "- Could you estimate the **precision** and **recall** of the classification?"
   ]
  },
  {
   "cell_type": "markdown",
   "metadata": {
    "id": "WqGzZF61KLjy"
   },
   "source": [
    "*******"
   ]
  },
  {
   "cell_type": "markdown",
   "metadata": {
    "id": "d90P5bXGKLjz"
   },
   "source": [
    "# Deliver"
   ]
  },
  {
   "cell_type": "markdown",
   "metadata": {
    "id": "vsdxRz2aKLj0"
   },
   "source": [
    "Deliver:\n",
    "\n",
    "* A zip file containing your notebook (.ipynb file) with all the [**CODE**] parts implemented.\n",
    "* A 5-pages PDF report including all parts of this notebook marked with \"[**REPORT**]\"\n",
    "\n",
    "The report should end with the following statement: **We hereby declare that, except for the code provided by the course instructors, all of our code, report, and figures were produced by ourselves.**"
   ]
  },
  {
   "cell_type": "code",
   "execution_count": null,
   "metadata": {
    "id": "Rwqgx07mKLj0"
   },
   "outputs": [],
   "source": []
  }
 ],
 "metadata": {
  "colab": {
   "name": "P02.ipynb",
   "provenance": []
  },
  "kernelspec": {
   "display_name": "Python 3.10.4 64-bit",
   "language": "python",
   "name": "python3"
  },
  "language_info": {
   "codemirror_mode": {
    "name": "ipython",
    "version": 3
   },
   "file_extension": ".py",
   "mimetype": "text/x-python",
   "name": "python",
   "nbconvert_exporter": "python",
   "pygments_lexer": "ipython3",
   "version": "3.10.4"
  },
  "toc": {
   "base_numbering": 1,
   "nav_menu": {},
   "number_sections": true,
   "sideBar": true,
   "skip_h1_title": false,
   "title_cell": "Table of Contents",
   "title_sidebar": "Contents",
   "toc_cell": false,
   "toc_position": {},
   "toc_section_display": true,
   "toc_window_display": false
  },
  "varInspector": {
   "cols": {
    "lenName": 16,
    "lenType": 16,
    "lenVar": 40
   },
   "kernels_config": {
    "python": {
     "delete_cmd_postfix": "",
     "delete_cmd_prefix": "del ",
     "library": "var_list.py",
     "varRefreshCmd": "print(var_dic_list())"
    },
    "r": {
     "delete_cmd_postfix": ") ",
     "delete_cmd_prefix": "rm(",
     "library": "var_list.r",
     "varRefreshCmd": "cat(var_dic_list()) "
    }
   },
   "types_to_exclude": [
    "module",
    "function",
    "builtin_function_or_method",
    "instance",
    "_Feature"
   ],
   "window_display": false
  },
  "vscode": {
   "interpreter": {
    "hash": "b56be27badcd85cfac02cb1b85a2ceed989d0358a4aee51e09ae41ed1d258a68"
   }
  }
 },
 "nbformat": 4,
 "nbformat_minor": 1
}
